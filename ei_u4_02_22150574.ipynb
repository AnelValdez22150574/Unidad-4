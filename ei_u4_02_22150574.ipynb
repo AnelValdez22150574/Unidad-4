{
  "nbformat": 4,
  "nbformat_minor": 0,
  "metadata": {
    "colab": {
      "provenance": [],
      "include_colab_link": true
    },
    "kernelspec": {
      "name": "python3",
      "display_name": "Python 3"
    },
    "language_info": {
      "name": "python"
    }
  },
  "cells": [
    {
      "cell_type": "markdown",
      "metadata": {
        "id": "view-in-github",
        "colab_type": "text"
      },
      "source": [
        "<a href=\"https://colab.research.google.com/github/AnelValdez22150574/Unidad-4/blob/main/ei_u4_02_22150574.ipynb\" target=\"_parent\"><img src=\"https://colab.research.google.com/assets/colab-badge.svg\" alt=\"Open In Colab\"/></a>"
      ]
    },
    {
      "cell_type": "markdown",
      "source": [
        "##Analiza los siguientes diseños experimentales, e intenta sacar el máximo valor a la información. Verifica los supuestos (linealidad, homscedasticidad e independencia), puedes apoyarte en [este documento](https://colab.research.google.com/drive/1VDWeVo0mZluvDAFcr5Vq6n3EdqW3EZaG?usp=sharing). Aplica una prueba post-hoc en caso que sea necesario. Redacta una conclusión y una recomendación para las personas que recolectaron los datos."
      ],
      "metadata": {
        "id": "c6lPuuAiUt2M"
      }
    },
    {
      "cell_type": "markdown",
      "source": [
        "#***INTRODUCCIÓN***\n",
        "\n",
        "En la actualidad, los análisis estadísticos desempeñan un papel crucial en la toma de decisiones en diversos campos, particularmente en la industria y la investigación científica. En el contexto de la manufactura, los defectos en los productos representan un desafío significativo, pues afectan tanto la calidad del producto final como la rentabilidad de la empresa. Para abordar estos problemas, es fundamental evaluar objetivamente la efectividad de distintos tratamientos o métodos de mejora mediante herramientas estadísticas confiables.\n",
        "\n",
        "El análisis estadístico no solo permite identificar diferencias significativas entre grupos sometidos a tratamientos específicos, sino también evaluar supuestos fundamentales como la normalidad de los datos y la homogeneidad de varianzas. Esto garantiza que las conclusiones derivadas sean válidas y aplicables. Por ejemplo, en la manufactura de discos compactos (CDs), los defectos conocidos como \"cometas\" pueden causar importantes pérdidas económicas. La implementación de un tratamiento basado en fuerza centrípeta y aire ionizado es una solución prometedora, pero requiere una evaluación rigurosa para confirmar su efectividad.\n",
        "\n",
        "A través de métodos estadísticos como las pruebas de Shapiro-Wilk, Bartlett, Kruskal-Wallis y comparaciones múltiples (como la prueba de Tukey), es posible establecer si un tratamiento reduce significativamente el porcentaje de defectos. Estos análisis no solo ayudan a determinar si el tratamiento es efectivo, sino que también respaldan decisiones estratégicas sobre su implementación. Así, el uso adecuado de la estadística se convierte en una herramienta clave para optimizar procesos, mejorar la calidad y aumentar la competitividad en el mercado.\n",
        "\n"
      ],
      "metadata": {
        "id": "KLo_0ezUhtH4"
      }
    },
    {
      "cell_type": "markdown",
      "source": [
        "1. **Comparación de cuatro métodos de ensamble:** Un equipo de mejora investiga el efecto de cuatro métodos de ensamble A, B, C y D, sobre el tiempo de ensamble en minutos. En primera instancia, la estrategia experimental es aplicar cuatro veces los cuatro métodos de ensamble en orden completamente aleatorio (las 16 pruebas en orden aleatorio). Los tiempos de ensamble obtenidos se muestran en la tabla 3.1. Si se usa el diseño completamente al azar (DCA), se supone que, además del método de ensamble, no existe ningún otro factor que influya de manera significativa sobre la variable de respuesta (tiempo de ensamble).\n",
        "\n",
        "| Método de ensamble | A  | B  | C  | D  |\n",
        "|--------------------|----|----|----|----|\n",
        "|                    | 6  | 7  | 11 | 10 |\n",
        "|                    | 8  | 9  | 16 | 12 |\n",
        "|                    | 7  | 10 | 11 | 11 |\n",
        "|                    | 8  | 8  | 13 | 9  |\n"
      ],
      "metadata": {
        "id": "xRzsHNcGRwef"
      }
    },
    {
      "cell_type": "code",
      "source": [
        "# csv es un acrónimo de \"comma separated values\" o \"valores separados por comas\".\n",
        "# Lo primero que hay que hacer es pasar estos datos a una tabla de valores crudos\n",
        "# en formato csv. Recuerden el problema que fue usar espacios en el csv, por esta\n",
        "# razón, evítenlos.\n",
        "\n",
        "import pandas as pd\n",
        "from io import StringIO\n",
        "\n",
        "datos = '''\n",
        "metodo,tiempo\n",
        "A,6\n",
        "A,8\n",
        "A,7\n",
        "A,8\n",
        "B,7\n",
        "B,9\n",
        "B,10\n",
        "B,8\n",
        "C,11\n",
        "C,16\n",
        "C,11\n",
        "C,13\n",
        "D,10\n",
        "D,12\n",
        "D,11\n",
        "D,9\n",
        "'''\n",
        "\n",
        "df = pd.read_csv(StringIO(datos))\n",
        "df.reset_index(drop=True, inplace=True)\n",
        "\n",
        "df\n",
        "# Anel Rocio Valdez Cabrera"
      ],
      "metadata": {
        "colab": {
          "base_uri": "https://localhost:8080/",
          "height": 551
        },
        "id": "A5wlIIrESu2i",
        "outputId": "bb405b5a-6ee2-4152-c4c0-e613e0b67f4a"
      },
      "execution_count": 1,
      "outputs": [
        {
          "output_type": "execute_result",
          "data": {
            "text/plain": [
              "   metodo  tiempo\n",
              "0       A       6\n",
              "1       A       8\n",
              "2       A       7\n",
              "3       A       8\n",
              "4       B       7\n",
              "5       B       9\n",
              "6       B      10\n",
              "7       B       8\n",
              "8       C      11\n",
              "9       C      16\n",
              "10      C      11\n",
              "11      C      13\n",
              "12      D      10\n",
              "13      D      12\n",
              "14      D      11\n",
              "15      D       9"
            ],
            "text/html": [
              "\n",
              "  <div id=\"df-63036712-8feb-4537-9836-f28c5a9685af\" class=\"colab-df-container\">\n",
              "    <div>\n",
              "<style scoped>\n",
              "    .dataframe tbody tr th:only-of-type {\n",
              "        vertical-align: middle;\n",
              "    }\n",
              "\n",
              "    .dataframe tbody tr th {\n",
              "        vertical-align: top;\n",
              "    }\n",
              "\n",
              "    .dataframe thead th {\n",
              "        text-align: right;\n",
              "    }\n",
              "</style>\n",
              "<table border=\"1\" class=\"dataframe\">\n",
              "  <thead>\n",
              "    <tr style=\"text-align: right;\">\n",
              "      <th></th>\n",
              "      <th>metodo</th>\n",
              "      <th>tiempo</th>\n",
              "    </tr>\n",
              "  </thead>\n",
              "  <tbody>\n",
              "    <tr>\n",
              "      <th>0</th>\n",
              "      <td>A</td>\n",
              "      <td>6</td>\n",
              "    </tr>\n",
              "    <tr>\n",
              "      <th>1</th>\n",
              "      <td>A</td>\n",
              "      <td>8</td>\n",
              "    </tr>\n",
              "    <tr>\n",
              "      <th>2</th>\n",
              "      <td>A</td>\n",
              "      <td>7</td>\n",
              "    </tr>\n",
              "    <tr>\n",
              "      <th>3</th>\n",
              "      <td>A</td>\n",
              "      <td>8</td>\n",
              "    </tr>\n",
              "    <tr>\n",
              "      <th>4</th>\n",
              "      <td>B</td>\n",
              "      <td>7</td>\n",
              "    </tr>\n",
              "    <tr>\n",
              "      <th>5</th>\n",
              "      <td>B</td>\n",
              "      <td>9</td>\n",
              "    </tr>\n",
              "    <tr>\n",
              "      <th>6</th>\n",
              "      <td>B</td>\n",
              "      <td>10</td>\n",
              "    </tr>\n",
              "    <tr>\n",
              "      <th>7</th>\n",
              "      <td>B</td>\n",
              "      <td>8</td>\n",
              "    </tr>\n",
              "    <tr>\n",
              "      <th>8</th>\n",
              "      <td>C</td>\n",
              "      <td>11</td>\n",
              "    </tr>\n",
              "    <tr>\n",
              "      <th>9</th>\n",
              "      <td>C</td>\n",
              "      <td>16</td>\n",
              "    </tr>\n",
              "    <tr>\n",
              "      <th>10</th>\n",
              "      <td>C</td>\n",
              "      <td>11</td>\n",
              "    </tr>\n",
              "    <tr>\n",
              "      <th>11</th>\n",
              "      <td>C</td>\n",
              "      <td>13</td>\n",
              "    </tr>\n",
              "    <tr>\n",
              "      <th>12</th>\n",
              "      <td>D</td>\n",
              "      <td>10</td>\n",
              "    </tr>\n",
              "    <tr>\n",
              "      <th>13</th>\n",
              "      <td>D</td>\n",
              "      <td>12</td>\n",
              "    </tr>\n",
              "    <tr>\n",
              "      <th>14</th>\n",
              "      <td>D</td>\n",
              "      <td>11</td>\n",
              "    </tr>\n",
              "    <tr>\n",
              "      <th>15</th>\n",
              "      <td>D</td>\n",
              "      <td>9</td>\n",
              "    </tr>\n",
              "  </tbody>\n",
              "</table>\n",
              "</div>\n",
              "    <div class=\"colab-df-buttons\">\n",
              "\n",
              "  <div class=\"colab-df-container\">\n",
              "    <button class=\"colab-df-convert\" onclick=\"convertToInteractive('df-63036712-8feb-4537-9836-f28c5a9685af')\"\n",
              "            title=\"Convert this dataframe to an interactive table.\"\n",
              "            style=\"display:none;\">\n",
              "\n",
              "  <svg xmlns=\"http://www.w3.org/2000/svg\" height=\"24px\" viewBox=\"0 -960 960 960\">\n",
              "    <path d=\"M120-120v-720h720v720H120Zm60-500h600v-160H180v160Zm220 220h160v-160H400v160Zm0 220h160v-160H400v160ZM180-400h160v-160H180v160Zm440 0h160v-160H620v160ZM180-180h160v-160H180v160Zm440 0h160v-160H620v160Z\"/>\n",
              "  </svg>\n",
              "    </button>\n",
              "\n",
              "  <style>\n",
              "    .colab-df-container {\n",
              "      display:flex;\n",
              "      gap: 12px;\n",
              "    }\n",
              "\n",
              "    .colab-df-convert {\n",
              "      background-color: #E8F0FE;\n",
              "      border: none;\n",
              "      border-radius: 50%;\n",
              "      cursor: pointer;\n",
              "      display: none;\n",
              "      fill: #1967D2;\n",
              "      height: 32px;\n",
              "      padding: 0 0 0 0;\n",
              "      width: 32px;\n",
              "    }\n",
              "\n",
              "    .colab-df-convert:hover {\n",
              "      background-color: #E2EBFA;\n",
              "      box-shadow: 0px 1px 2px rgba(60, 64, 67, 0.3), 0px 1px 3px 1px rgba(60, 64, 67, 0.15);\n",
              "      fill: #174EA6;\n",
              "    }\n",
              "\n",
              "    .colab-df-buttons div {\n",
              "      margin-bottom: 4px;\n",
              "    }\n",
              "\n",
              "    [theme=dark] .colab-df-convert {\n",
              "      background-color: #3B4455;\n",
              "      fill: #D2E3FC;\n",
              "    }\n",
              "\n",
              "    [theme=dark] .colab-df-convert:hover {\n",
              "      background-color: #434B5C;\n",
              "      box-shadow: 0px 1px 3px 1px rgba(0, 0, 0, 0.15);\n",
              "      filter: drop-shadow(0px 1px 2px rgba(0, 0, 0, 0.3));\n",
              "      fill: #FFFFFF;\n",
              "    }\n",
              "  </style>\n",
              "\n",
              "    <script>\n",
              "      const buttonEl =\n",
              "        document.querySelector('#df-63036712-8feb-4537-9836-f28c5a9685af button.colab-df-convert');\n",
              "      buttonEl.style.display =\n",
              "        google.colab.kernel.accessAllowed ? 'block' : 'none';\n",
              "\n",
              "      async function convertToInteractive(key) {\n",
              "        const element = document.querySelector('#df-63036712-8feb-4537-9836-f28c5a9685af');\n",
              "        const dataTable =\n",
              "          await google.colab.kernel.invokeFunction('convertToInteractive',\n",
              "                                                    [key], {});\n",
              "        if (!dataTable) return;\n",
              "\n",
              "        const docLinkHtml = 'Like what you see? Visit the ' +\n",
              "          '<a target=\"_blank\" href=https://colab.research.google.com/notebooks/data_table.ipynb>data table notebook</a>'\n",
              "          + ' to learn more about interactive tables.';\n",
              "        element.innerHTML = '';\n",
              "        dataTable['output_type'] = 'display_data';\n",
              "        await google.colab.output.renderOutput(dataTable, element);\n",
              "        const docLink = document.createElement('div');\n",
              "        docLink.innerHTML = docLinkHtml;\n",
              "        element.appendChild(docLink);\n",
              "      }\n",
              "    </script>\n",
              "  </div>\n",
              "\n",
              "\n",
              "<div id=\"df-fb8147b4-f50a-4272-94b0-772cb98ef953\">\n",
              "  <button class=\"colab-df-quickchart\" onclick=\"quickchart('df-fb8147b4-f50a-4272-94b0-772cb98ef953')\"\n",
              "            title=\"Suggest charts\"\n",
              "            style=\"display:none;\">\n",
              "\n",
              "<svg xmlns=\"http://www.w3.org/2000/svg\" height=\"24px\"viewBox=\"0 0 24 24\"\n",
              "     width=\"24px\">\n",
              "    <g>\n",
              "        <path d=\"M19 3H5c-1.1 0-2 .9-2 2v14c0 1.1.9 2 2 2h14c1.1 0 2-.9 2-2V5c0-1.1-.9-2-2-2zM9 17H7v-7h2v7zm4 0h-2V7h2v10zm4 0h-2v-4h2v4z\"/>\n",
              "    </g>\n",
              "</svg>\n",
              "  </button>\n",
              "\n",
              "<style>\n",
              "  .colab-df-quickchart {\n",
              "      --bg-color: #E8F0FE;\n",
              "      --fill-color: #1967D2;\n",
              "      --hover-bg-color: #E2EBFA;\n",
              "      --hover-fill-color: #174EA6;\n",
              "      --disabled-fill-color: #AAA;\n",
              "      --disabled-bg-color: #DDD;\n",
              "  }\n",
              "\n",
              "  [theme=dark] .colab-df-quickchart {\n",
              "      --bg-color: #3B4455;\n",
              "      --fill-color: #D2E3FC;\n",
              "      --hover-bg-color: #434B5C;\n",
              "      --hover-fill-color: #FFFFFF;\n",
              "      --disabled-bg-color: #3B4455;\n",
              "      --disabled-fill-color: #666;\n",
              "  }\n",
              "\n",
              "  .colab-df-quickchart {\n",
              "    background-color: var(--bg-color);\n",
              "    border: none;\n",
              "    border-radius: 50%;\n",
              "    cursor: pointer;\n",
              "    display: none;\n",
              "    fill: var(--fill-color);\n",
              "    height: 32px;\n",
              "    padding: 0;\n",
              "    width: 32px;\n",
              "  }\n",
              "\n",
              "  .colab-df-quickchart:hover {\n",
              "    background-color: var(--hover-bg-color);\n",
              "    box-shadow: 0 1px 2px rgba(60, 64, 67, 0.3), 0 1px 3px 1px rgba(60, 64, 67, 0.15);\n",
              "    fill: var(--button-hover-fill-color);\n",
              "  }\n",
              "\n",
              "  .colab-df-quickchart-complete:disabled,\n",
              "  .colab-df-quickchart-complete:disabled:hover {\n",
              "    background-color: var(--disabled-bg-color);\n",
              "    fill: var(--disabled-fill-color);\n",
              "    box-shadow: none;\n",
              "  }\n",
              "\n",
              "  .colab-df-spinner {\n",
              "    border: 2px solid var(--fill-color);\n",
              "    border-color: transparent;\n",
              "    border-bottom-color: var(--fill-color);\n",
              "    animation:\n",
              "      spin 1s steps(1) infinite;\n",
              "  }\n",
              "\n",
              "  @keyframes spin {\n",
              "    0% {\n",
              "      border-color: transparent;\n",
              "      border-bottom-color: var(--fill-color);\n",
              "      border-left-color: var(--fill-color);\n",
              "    }\n",
              "    20% {\n",
              "      border-color: transparent;\n",
              "      border-left-color: var(--fill-color);\n",
              "      border-top-color: var(--fill-color);\n",
              "    }\n",
              "    30% {\n",
              "      border-color: transparent;\n",
              "      border-left-color: var(--fill-color);\n",
              "      border-top-color: var(--fill-color);\n",
              "      border-right-color: var(--fill-color);\n",
              "    }\n",
              "    40% {\n",
              "      border-color: transparent;\n",
              "      border-right-color: var(--fill-color);\n",
              "      border-top-color: var(--fill-color);\n",
              "    }\n",
              "    60% {\n",
              "      border-color: transparent;\n",
              "      border-right-color: var(--fill-color);\n",
              "    }\n",
              "    80% {\n",
              "      border-color: transparent;\n",
              "      border-right-color: var(--fill-color);\n",
              "      border-bottom-color: var(--fill-color);\n",
              "    }\n",
              "    90% {\n",
              "      border-color: transparent;\n",
              "      border-bottom-color: var(--fill-color);\n",
              "    }\n",
              "  }\n",
              "</style>\n",
              "\n",
              "  <script>\n",
              "    async function quickchart(key) {\n",
              "      const quickchartButtonEl =\n",
              "        document.querySelector('#' + key + ' button');\n",
              "      quickchartButtonEl.disabled = true;  // To prevent multiple clicks.\n",
              "      quickchartButtonEl.classList.add('colab-df-spinner');\n",
              "      try {\n",
              "        const charts = await google.colab.kernel.invokeFunction(\n",
              "            'suggestCharts', [key], {});\n",
              "      } catch (error) {\n",
              "        console.error('Error during call to suggestCharts:', error);\n",
              "      }\n",
              "      quickchartButtonEl.classList.remove('colab-df-spinner');\n",
              "      quickchartButtonEl.classList.add('colab-df-quickchart-complete');\n",
              "    }\n",
              "    (() => {\n",
              "      let quickchartButtonEl =\n",
              "        document.querySelector('#df-fb8147b4-f50a-4272-94b0-772cb98ef953 button');\n",
              "      quickchartButtonEl.style.display =\n",
              "        google.colab.kernel.accessAllowed ? 'block' : 'none';\n",
              "    })();\n",
              "  </script>\n",
              "</div>\n",
              "\n",
              "  <div id=\"id_0a29afae-6b91-49e2-8c5c-f29019f2f9f7\">\n",
              "    <style>\n",
              "      .colab-df-generate {\n",
              "        background-color: #E8F0FE;\n",
              "        border: none;\n",
              "        border-radius: 50%;\n",
              "        cursor: pointer;\n",
              "        display: none;\n",
              "        fill: #1967D2;\n",
              "        height: 32px;\n",
              "        padding: 0 0 0 0;\n",
              "        width: 32px;\n",
              "      }\n",
              "\n",
              "      .colab-df-generate:hover {\n",
              "        background-color: #E2EBFA;\n",
              "        box-shadow: 0px 1px 2px rgba(60, 64, 67, 0.3), 0px 1px 3px 1px rgba(60, 64, 67, 0.15);\n",
              "        fill: #174EA6;\n",
              "      }\n",
              "\n",
              "      [theme=dark] .colab-df-generate {\n",
              "        background-color: #3B4455;\n",
              "        fill: #D2E3FC;\n",
              "      }\n",
              "\n",
              "      [theme=dark] .colab-df-generate:hover {\n",
              "        background-color: #434B5C;\n",
              "        box-shadow: 0px 1px 3px 1px rgba(0, 0, 0, 0.15);\n",
              "        filter: drop-shadow(0px 1px 2px rgba(0, 0, 0, 0.3));\n",
              "        fill: #FFFFFF;\n",
              "      }\n",
              "    </style>\n",
              "    <button class=\"colab-df-generate\" onclick=\"generateWithVariable('df')\"\n",
              "            title=\"Generate code using this dataframe.\"\n",
              "            style=\"display:none;\">\n",
              "\n",
              "  <svg xmlns=\"http://www.w3.org/2000/svg\" height=\"24px\"viewBox=\"0 0 24 24\"\n",
              "       width=\"24px\">\n",
              "    <path d=\"M7,19H8.4L18.45,9,17,7.55,7,17.6ZM5,21V16.75L18.45,3.32a2,2,0,0,1,2.83,0l1.4,1.43a1.91,1.91,0,0,1,.58,1.4,1.91,1.91,0,0,1-.58,1.4L9.25,21ZM18.45,9,17,7.55Zm-12,3A5.31,5.31,0,0,0,4.9,8.1,5.31,5.31,0,0,0,1,6.5,5.31,5.31,0,0,0,4.9,4.9,5.31,5.31,0,0,0,6.5,1,5.31,5.31,0,0,0,8.1,4.9,5.31,5.31,0,0,0,12,6.5,5.46,5.46,0,0,0,6.5,12Z\"/>\n",
              "  </svg>\n",
              "    </button>\n",
              "    <script>\n",
              "      (() => {\n",
              "      const buttonEl =\n",
              "        document.querySelector('#id_0a29afae-6b91-49e2-8c5c-f29019f2f9f7 button.colab-df-generate');\n",
              "      buttonEl.style.display =\n",
              "        google.colab.kernel.accessAllowed ? 'block' : 'none';\n",
              "\n",
              "      buttonEl.onclick = () => {\n",
              "        google.colab.notebook.generateWithVariable('df');\n",
              "      }\n",
              "      })();\n",
              "    </script>\n",
              "  </div>\n",
              "\n",
              "    </div>\n",
              "  </div>\n"
            ],
            "application/vnd.google.colaboratory.intrinsic+json": {
              "type": "dataframe",
              "variable_name": "df",
              "summary": "{\n  \"name\": \"df\",\n  \"rows\": 16,\n  \"fields\": [\n    {\n      \"column\": \"metodo\",\n      \"properties\": {\n        \"dtype\": \"category\",\n        \"num_unique_values\": 4,\n        \"samples\": [\n          \"B\",\n          \"D\",\n          \"A\"\n        ],\n        \"semantic_type\": \"\",\n        \"description\": \"\"\n      }\n    },\n    {\n      \"column\": \"tiempo\",\n      \"properties\": {\n        \"dtype\": \"number\",\n        \"std\": 2,\n        \"min\": 6,\n        \"max\": 16,\n        \"num_unique_values\": 9,\n        \"samples\": [\n          13,\n          8,\n          11\n        ],\n        \"semantic_type\": \"\",\n        \"description\": \"\"\n      }\n    }\n  ]\n}"
            }
          },
          "metadata": {},
          "execution_count": 1
        }
      ]
    },
    {
      "cell_type": "markdown",
      "source": [
        "# **Supuesto de normalidad: test de Shapiro**"
      ],
      "metadata": {
        "id": "C36cwl5RwXVw"
      }
    },
    {
      "cell_type": "code",
      "source": [
        "# Prueba de Shapiro\n",
        "\n",
        "from scipy.stats import shapiro\n",
        "nivel_de_significancia = 0.05\n",
        "\n",
        "# Función para realizar la prueba de Shapiro-Wilk y mostrar interpretación\n",
        "# NO MODIFICAR\n",
        "def prueba_shapiro(datos, nombre_grupo, nivel_de_significancia):\n",
        "    stat, p = shapiro(datos)\n",
        "    print(f\"\\nPrueba de Shapiro-Wilk para {nombre_grupo}:\")\n",
        "    print(f\"Estadístico: {stat:.4f}\")\n",
        "    print(f\"Valor p: {p:.4f}\")\n",
        "    if p > nivel_de_significancia:\n",
        "        print(\"Interpretación: Los datos tienen una distribución normal.\")\n",
        "    else:\n",
        "        print(\"Interpretación: Los datos no tienen una distribución normal.\")\n",
        "\n",
        "# Aplicar la prueba a cada grupo (parte modificable)\n",
        "prueba_shapiro(df[df['metodo'] == 'A']['tiempo'], \"Grupo A\", nivel_de_significancia)\n",
        "prueba_shapiro(df[df['metodo'] == 'B']['tiempo'], \"Grupo B\", nivel_de_significancia)\n",
        "prueba_shapiro(df[df['metodo'] == 'C']['tiempo'], \"Grupo C\", nivel_de_significancia)\n",
        "prueba_shapiro(df[df['metodo'] == 'D']['tiempo'], \"Grupo D\", nivel_de_significancia)\n",
        "\n",
        "#Anel Rocio Valdez Cabrera"
      ],
      "metadata": {
        "colab": {
          "base_uri": "https://localhost:8080/"
        },
        "id": "XbdziWS4uIVm",
        "outputId": "b6404212-249f-46b8-d002-28f2e2f87823"
      },
      "execution_count": 2,
      "outputs": [
        {
          "output_type": "stream",
          "name": "stdout",
          "text": [
            "\n",
            "Prueba de Shapiro-Wilk para Grupo A:\n",
            "Estadístico: 0.8634\n",
            "Valor p: 0.2725\n",
            "Interpretación: Los datos tienen una distribución normal.\n",
            "\n",
            "Prueba de Shapiro-Wilk para Grupo B:\n",
            "Estadístico: 0.9929\n",
            "Valor p: 0.9719\n",
            "Interpretación: Los datos tienen una distribución normal.\n",
            "\n",
            "Prueba de Shapiro-Wilk para Grupo C:\n",
            "Estadístico: 0.8481\n",
            "Valor p: 0.2200\n",
            "Interpretación: Los datos tienen una distribución normal.\n",
            "\n",
            "Prueba de Shapiro-Wilk para Grupo D:\n",
            "Estadístico: 0.9929\n",
            "Valor p: 0.9719\n",
            "Interpretación: Los datos tienen una distribución normal.\n"
          ]
        }
      ]
    },
    {
      "cell_type": "markdown",
      "source": [
        "# **Supuesto homoscedasticidad: test de Barlett**"
      ],
      "metadata": {
        "id": "aHcIft8UwfTE"
      }
    },
    {
      "cell_type": "code",
      "source": [
        "from scipy.stats import bartlett\n",
        "nivel_de_significancia = 0.05\n",
        "\n",
        "# Aplicar la prueba de Bartlett\n",
        "stat, p_value = bartlett(\n",
        "    df[df['metodo'] == 'A']['tiempo'],\n",
        "    df[df['metodo'] == 'B']['tiempo'],\n",
        "    df[df['metodo'] == 'C']['tiempo'],\n",
        "    df[df['metodo'] == 'D']['tiempo']\n",
        ")\n",
        "\n",
        "# Resultados\n",
        "print(\"Estadístico de Bartlett:\", stat)\n",
        "print(\"Valor p:\", p_value)\n",
        "\n",
        "# Interpretación\n",
        "if p_value < nivel_de_significancia:\n",
        "    print(\"Rechazamos la hipótesis nula: Las varianzas no son iguales.\")\n",
        "else:\n",
        "    print(\"No podemos rechazar la hipótesis nula: Las varianzas son iguales.\")\n",
        "\n",
        "#Anel Rocio Valdez Cabrera"
      ],
      "metadata": {
        "colab": {
          "base_uri": "https://localhost:8080/"
        },
        "id": "TLhJRTpmvz59",
        "outputId": "e10d4e58-42b2-4998-cf0c-7fa33a933e6d"
      },
      "execution_count": 3,
      "outputs": [
        {
          "output_type": "stream",
          "name": "stdout",
          "text": [
            "Estadístico de Bartlett: 2.485339763933269\n",
            "Valor p: 0.4779463433898813\n",
            "No podemos rechazar la hipótesis nula: Las varianzas son iguales.\n"
          ]
        }
      ]
    },
    {
      "cell_type": "markdown",
      "source": [
        "**Supuesto de independencia**\n",
        "\n",
        "Dado que .47794>.05; no podemos rechazar la hipótesis nula, que nos indica una igualdad entre las varianzas"
      ],
      "metadata": {
        "id": "19pxz4oDkTUF"
      }
    },
    {
      "cell_type": "markdown",
      "source": [
        "#**Tabla ANOVA**"
      ],
      "metadata": {
        "id": "-2e2NVOn9QRE"
      }
    },
    {
      "cell_type": "code",
      "source": [
        "import scipy.stats as stats\n",
        "\n",
        "nivel_de_significancia = 0.05\n",
        "\n",
        "# Realizar ANOVA\n",
        "anova_result = stats.f_oneway(\n",
        "    df[df['metodo'] == 'A']['tiempo'],\n",
        "    df[df['metodo'] == 'B']['tiempo'],\n",
        "    df[df['metodo'] == 'C']['tiempo'],\n",
        "    df[df['metodo'] == 'D']['tiempo'],\n",
        ")\n",
        "\n",
        "# Interpretar los resultados\n",
        "print(\"Resultados del ANOVA:\")\n",
        "print(f\"F-Estadístico: {anova_result.statistic:.2f}\")\n",
        "print(f\"Valor p: {anova_result.pvalue:.5f}\\n\")\n",
        "\n",
        "if anova_result.pvalue < nivel_de_significancia:\n",
        "    print(\"Conclusión: Hay diferencias significativas entre al menos dos grupos.\")\n",
        "else:\n",
        "    print(\"Conclusión: No hay diferencias significativas entre los grupos.\")\n",
        "\n",
        "\n",
        "  #Anel Rocio Valdez Cabrera"
      ],
      "metadata": {
        "colab": {
          "base_uri": "https://localhost:8080/"
        },
        "id": "DSucbcTy1KAz",
        "outputId": "9ebbce14-341b-46be-a973-c8d1b9f06503"
      },
      "execution_count": 4,
      "outputs": [
        {
          "output_type": "stream",
          "name": "stdout",
          "text": [
            "Resultados del ANOVA:\n",
            "F-Estadístico: 9.42\n",
            "Valor p: 0.00177\n",
            "\n",
            "Conclusión: Hay diferencias significativas entre al menos dos grupos.\n"
          ]
        }
      ]
    },
    {
      "cell_type": "markdown",
      "source": [
        "#**Turkey**"
      ],
      "metadata": {
        "id": "XXRW8wpllK2N"
      }
    },
    {
      "cell_type": "code",
      "source": [
        "from statsmodels.stats.multicomp import pairwise_tukeyhsd\n",
        "import matplotlib.pyplot as plt\n",
        "\n",
        "nivel_de_significancia = 0.05\n",
        "\n",
        "# Prueba de Tukey\n",
        "tukey = pairwise_tukeyhsd(endog=df['tiempo'], groups=df['metodo'], alpha=nivel_de_significancia)\n",
        "\n",
        "# Mostrar los resultados\n",
        "print(tukey)\n",
        "\n",
        "# Gráfico de las diferencias entre grupos\n",
        "tukey.plot_simultaneous(ylabel=\"Grupos\", xlabel=\"Medias\")\n",
        "\n",
        "plt.gca().spines['right'].set_visible(False) # derecha\n",
        "plt.gca().spines['top'].set_visible(False)   # superior\n",
        "plt.title(\"Múltiples comparaciones entre todos los pares (Tukey)\")\n",
        "\n",
        "#Anel Rocio Valdez Cabrera"
      ],
      "metadata": {
        "colab": {
          "base_uri": "https://localhost:8080/",
          "height": 773
        },
        "id": "deiiN0_EwQhW",
        "outputId": "221b0f9f-b32d-4ecb-aa65-4e990cbc1d91"
      },
      "execution_count": 8,
      "outputs": [
        {
          "output_type": "stream",
          "name": "stdout",
          "text": [
            "Multiple Comparison of Means - Tukey HSD, FWER=0.05\n",
            "===================================================\n",
            "group1 group2 meandiff p-adj   lower  upper  reject\n",
            "---------------------------------------------------\n",
            "     A      B     1.25 0.6805 -2.0416 4.5416  False\n",
            "     A      C      5.5 0.0016  2.2084 8.7916   True\n",
            "     A      D     3.25 0.0533 -0.0416 6.5416  False\n",
            "     B      C     4.25  0.011  0.9584 7.5416   True\n",
            "     B      D      2.0 0.3181 -1.2916 5.2916  False\n",
            "     C      D    -2.25 0.2309 -5.5416 1.0416  False\n",
            "---------------------------------------------------\n"
          ]
        },
        {
          "output_type": "execute_result",
          "data": {
            "text/plain": [
              "Text(0.5, 1.0, 'Múltiples comparaciones entre todos los pares (Tukey)')"
            ]
          },
          "metadata": {},
          "execution_count": 8
        },
        {
          "output_type": "display_data",
          "data": {
            "text/plain": [
              "<Figure size 1000x600 with 1 Axes>"
            ],
            "image/png": "[encoded data removed]"
          },
          "metadata": {}
        }
      ]
    },
    {
      "cell_type": "markdown",
      "source": [
        "#***Conclusión**\n",
        "\n",
        "Dado que se encontró que todas las pruebas cuentan con valores P mayores que el nivel de significancia, se les reconoce el cumplimiento del supuesto de normalidad; de igual manera, se muestra la igualdad entre las varianzas de los métodos (siendo el valor P [de .4779]mayor al nivel de significancia [.05])\n",
        "\n",
        "Con las pruebas ANOVA y Turkey por otro lado, se encontró una diferencia significativamente mayor en los promedios de tiempo entre el método C y el resto de los métodos"
      ],
      "metadata": {
        "id": "Y1qiEjypmY0S"
      }
    },
    {
      "cell_type": "markdown",
      "source": [
        "2. **Comparación de cuatro tipos de cuero:** Un fabricante de calzado desea mejorar la calidad de las suelas, las cuales se pueden hacer con uno de los cuatro tipos de cuero A, B, C y D disponibles en el mercado. Para ello, prueba los cueros con una máquina que hace pasar los zapatos por una superficie abrasiva; la suela de éstos se desgasta al pasarla por dicha superficie. Como criterio de desgaste se usa la pérdida de peso después de un número fijo de ciclos. Se prueban en orden aleatorio 24 zapatos, seis de cada tipo de cuero. Al hacer las pruebas en orden completamente al azar se evitan sesgos y las mediciones en un tipo de cuero resultan independientes de las demás. Los datos (en miligramos) sobre el desgaste de cada tipo de cuero se muestran en la tabla.\n",
        "\n",
        "| Tipo de cuero | Observaciones                  | Promedio |\n",
        "|---------------|--------------------------------|----------|\n",
        "| A             | 264, 260, 258, 241, 262, 255 | 256.7    |\n",
        "| B             | 208, 220, 216, 200, 213, 206 | 209.8    |\n",
        "| C             | 220, 263, 219, 225, 230, 228 | 230.8    |\n",
        "| D             | 217, 226, 215, 227, 220, 222 | 220.7    |\n"
      ],
      "metadata": {
        "id": "lBDyu-H_RPw0"
      }
    },
    {
      "cell_type": "code",
      "source": [
        "import pandas as pd\n",
        "from io import StringIO\n",
        "\n",
        "datos = '''\n",
        "Tipo de cuero,Observaciones\n",
        "A,264\n",
        "A,260\n",
        "A,258\n",
        "A,256\n",
        "B,209\n",
        "B,208\n",
        "B,206\n",
        "B,204\n",
        "C,220\n",
        "C,263\n",
        "C,219\n",
        "C,225\n",
        "D,217\n",
        "D,226\n",
        "D,215\n",
        "D,227\n",
        "'''\n",
        "\n",
        "# Para convertir los datos en DataFrame\n",
        "df = pd.read_csv(StringIO(datos))\n",
        "df.reset_index(drop=True, inplace=True)\n",
        "\n",
        "print(df)\n",
        "#Anel Rocio Valdez Cabrera"
      ],
      "metadata": {
        "colab": {
          "base_uri": "https://localhost:8080/"
        },
        "id": "I1mGo-Xclzrq",
        "outputId": "05cfe96a-e76d-4758-f7e9-007ef3c7eba1"
      },
      "execution_count": 9,
      "outputs": [
        {
          "output_type": "stream",
          "name": "stdout",
          "text": [
            "   Tipo de cuero  Observaciones\n",
            "0              A            264\n",
            "1              A            260\n",
            "2              A            258\n",
            "3              A            256\n",
            "4              B            209\n",
            "5              B            208\n",
            "6              B            206\n",
            "7              B            204\n",
            "8              C            220\n",
            "9              C            263\n",
            "10             C            219\n",
            "11             C            225\n",
            "12             D            217\n",
            "13             D            226\n",
            "14             D            215\n",
            "15             D            227\n"
          ]
        }
      ]
    },
    {
      "cell_type": "markdown",
      "source": [
        "#**Supuesto de normalidad : test de Shapiro**"
      ],
      "metadata": {
        "id": "QTZDBBByrrjX"
      }
    },
    {
      "cell_type": "code",
      "source": [
        "# Prueba de Shapiro\n",
        "\n",
        "from scipy.stats import shapiro\n",
        "nivel_de_significancia = 0.05\n",
        "\n",
        "# Función para realizar la prueba de Shapiro-Wilk y mostrar interpretación\n",
        "# NO MODIFICAR\n",
        "def prueba_shapiro(datos, nombre_grupo, nivel_de_significancia):\n",
        "    stat, p = shapiro(datos)\n",
        "    print(f\"\\nPrueba de Shapiro-Wilk para {nombre_grupo}:\")\n",
        "    print(f\"Estadístico: {stat:.4f}\")\n",
        "    print(f\"Valor p: {p:.4f}\")\n",
        "    if p > nivel_de_significancia:\n",
        "        print(\"Interpretación: Los datos tienen una distribución normal.\")\n",
        "    else:\n",
        "        print(\"Interpretación: Los datos no tienen una distribución normal.\")\n",
        "\n",
        "# Aplicar la prueba a cada grupo (parte modificable)\n",
        "prueba_shapiro(df[df['Tipo de cuero'] == 'A']['Observaciones'], \"Grupo A\", nivel_de_significancia)\n",
        "prueba_shapiro(df[df['Tipo de cuero'] == 'B']['Observaciones'], \"Grupo B\", nivel_de_significancia)\n",
        "prueba_shapiro(df[df['Tipo de cuero'] == 'C']['Observaciones'], \"Grupo C\", nivel_de_significancia)\n",
        "prueba_shapiro(df[df['Tipo de cuero'] == 'D']['Observaciones'], \"Grupo D\", nivel_de_significancia)\n",
        "\n",
        "#Anel Rocio Valdez Cabrera"
      ],
      "metadata": {
        "colab": {
          "base_uri": "https://localhost:8080/"
        },
        "id": "IUvAcge1q1fT",
        "outputId": "5d20d3f9-6217-427b-f47e-4976f351ae1c"
      },
      "execution_count": 13,
      "outputs": [
        {
          "output_type": "stream",
          "name": "stdout",
          "text": [
            "\n",
            "Prueba de Shapiro-Wilk para Grupo A:\n",
            "Estadístico: 0.9714\n",
            "Valor p: 0.8500\n",
            "Interpretación: Los datos tienen una distribución normal.\n",
            "\n",
            "Prueba de Shapiro-Wilk para Grupo B:\n",
            "Estadístico: 0.9631\n",
            "Valor p: 0.7982\n",
            "Interpretación: Los datos tienen una distribución normal.\n",
            "\n",
            "Prueba de Shapiro-Wilk para Grupo C:\n",
            "Estadístico: 0.7299\n",
            "Valor p: 0.0246\n",
            "Interpretación: Los datos no tienen una distribución normal.\n",
            "\n",
            "Prueba de Shapiro-Wilk para Grupo D:\n",
            "Estadístico: 0.8421\n",
            "Valor p: 0.2017\n",
            "Interpretación: Los datos tienen una distribución normal.\n"
          ]
        }
      ]
    },
    {
      "cell_type": "markdown",
      "source": [
        "# **Supuesto homoscedasticidad: test de Barlett**\n"
      ],
      "metadata": {
        "id": "haanR8XAsBsv"
      }
    },
    {
      "cell_type": "code",
      "source": [
        "from scipy.stats import bartlett\n",
        "nivel_de_significancia = 0.05\n",
        "\n",
        "# Aplicar la prueba de Bartlett\n",
        "stat, p_value = bartlett(\n",
        "    df[df['Tipo de cuero'] == 'A']['Observaciones'],\n",
        "    df[df['Tipo de cuero'] == 'B']['Observaciones'],\n",
        "    df[df['Tipo de cuero'] == 'C']['Observaciones'],\n",
        "    df[df['Tipo de cuero'] == 'D']['Observaciones'],\n",
        ")\n",
        "\n",
        "# Resultados\n",
        "print(\"Estadístico de Bartlett:\", stat)\n",
        "print(\"Valor p:\", p_value)\n",
        "\n",
        "# Interpretación\n",
        "if p_value < nivel_de_significancia:\n",
        "    print(\"Rechazamos la hipótesis nula: Las varianzas no son iguales.\")\n",
        "else:\n",
        "    print(\"No podemos rechazar la hipótesis nula: Las varianzas son iguales.\")\n",
        "\n",
        "    #Anel Rocio Valdez Cabrera"
      ],
      "metadata": {
        "colab": {
          "base_uri": "https://localhost:8080/"
        },
        "id": "KFI8f47KsMUS",
        "outputId": "5c082278-78c1-4f55-a482-dad77edcb69b"
      },
      "execution_count": 14,
      "outputs": [
        {
          "output_type": "stream",
          "name": "stdout",
          "text": [
            "Estadístico de Bartlett: 14.511364156154379\n",
            "Valor p: 0.0022856218513457966\n",
            "Rechazamos la hipótesis nula: Las varianzas no son iguales.\n"
          ]
        }
      ]
    },
    {
      "cell_type": "markdown",
      "source": [
        "Dado que el valor P estimado es superior al nivel de significancia deseado; podemos rechazar la hipótesis nula dado que las varianzas no son iguales, siendo entonces que al menos un tipo de cuero no sigue una distribución normal"
      ],
      "metadata": {
        "id": "3fB6aXyvsvr7"
      }
    },
    {
      "cell_type": "markdown",
      "source": [
        "#**Kruskal**\n",
        "\n"
      ],
      "metadata": {
        "id": "UUhbM5NvtiOj"
      }
    },
    {
      "cell_type": "code",
      "source": [
        "# Si al menos un grupo no sigue una distribución normal\n",
        "from scipy.stats import kruskal\n",
        "\n",
        "# Prueba de Kruskal-Wallis\n",
        "kruskal_result = kruskal(\n",
        "    df[df['Tipo de cuero'] == 'A']['Observaciones'],\n",
        "    df[df['Tipo de cuero'] == 'B']['Observaciones'],\n",
        "    df[df['Tipo de cuero'] == 'C']['Observaciones'],\n",
        "    df[df['Tipo de cuero'] == 'D']['Observaciones']\n",
        ")\n",
        "\n",
        "# Mostrar resultados\n",
        "print(\"Resultados de la prueba de Kruskal-Wallis:\")\n",
        "print(f\"Estadístico de prueba: {kruskal_result.statistic:.2f}\")\n",
        "print(f\"Valor p: {kruskal_result.pvalue:.4f}\")\n",
        "\n",
        "# Interpretación\n",
        "if kruskal_result.pvalue < 0.05:\n",
        "    print(\"Interpretación: Existen diferencias significativas entre al menos dos grupos.\")\n",
        "else:\n",
        "    print(\"Interpretación: No hay diferencias significativas entre los grupos.\")\n",
        "\n",
        "#Anel Rocio Valdez Cabrera"
      ],
      "metadata": {
        "colab": {
          "base_uri": "https://localhost:8080/"
        },
        "id": "v2i14sfPtqzL",
        "outputId": "3ff78a5d-c341-4a22-95f3-c10332b83c2b"
      },
      "execution_count": 16,
      "outputs": [
        {
          "output_type": "stream",
          "name": "stdout",
          "text": [
            "Resultados de la prueba de Kruskal-Wallis:\n",
            "Estadístico de prueba: 11.54\n",
            "Valor p: 0.0092\n",
            "Interpretación: Existen diferencias significativas entre al menos dos grupos.\n"
          ]
        }
      ]
    },
    {
      "cell_type": "markdown",
      "source": [
        "#**Turkey**"
      ],
      "metadata": {
        "id": "2G0tHNQvt9oF"
      }
    },
    {
      "cell_type": "code",
      "source": [
        "from statsmodels.stats.multicomp import pairwise_tukeyhsd\n",
        "import matplotlib.pyplot as plt\n",
        "\n",
        "nivel_de_significancia = 0.05\n",
        "\n",
        "# Prueba de Tukey\n",
        "tukey = pairwise_tukeyhsd(endog=df['Observaciones'], groups=df['Tipo de cuero'], alpha=nivel_de_significancia)\n",
        "\n",
        "# Mostrar los resultados\n",
        "print(tukey)\n",
        "\n",
        "# Gráfico de las diferencias entre grupos\n",
        "tukey.plot_simultaneous(ylabel=\"Grupos\", xlabel=\"Medias\")\n",
        "\n",
        "plt.gca().spines['right'].set_visible(False) # derecha\n",
        "plt.gca().spines['top'].set_visible(False)   # superior\n",
        "plt.title(\"Múltiples comparaciones entre todos los pares (Tukey)\")\n",
        "\n",
        "#Anel Rocio Valdez Cabrera"
      ],
      "metadata": {
        "colab": {
          "base_uri": "https://localhost:8080/",
          "height": 773
        },
        "id": "J7cYngG4t_73",
        "outputId": "4040f4db-9db6-4aff-c65a-bcc6807769f8"
      },
      "execution_count": 17,
      "outputs": [
        {
          "output_type": "stream",
          "name": "stdout",
          "text": [
            " Multiple Comparison of Means - Tukey HSD, FWER=0.05  \n",
            "======================================================\n",
            "group1 group2 meandiff p-adj   lower    upper   reject\n",
            "------------------------------------------------------\n",
            "     A      B   -52.75 0.0001 -76.1055 -29.3945   True\n",
            "     A      C   -27.75 0.0189 -51.1055  -4.3945   True\n",
            "     A      D   -38.25 0.0019 -61.6055 -14.8945   True\n",
            "     B      C     25.0 0.0348   1.6445  48.3555   True\n",
            "     B      D     14.5 0.3015  -8.8555  37.8555  False\n",
            "     C      D    -10.5 0.5599 -33.8555  12.8555  False\n",
            "------------------------------------------------------\n"
          ]
        },
        {
          "output_type": "execute_result",
          "data": {
            "text/plain": [
              "Text(0.5, 1.0, 'Múltiples comparaciones entre todos los pares (Tukey)')"
            ]
          },
          "metadata": {},
          "execution_count": 17
        },
        {
          "output_type": "display_data",
          "data": {
            "text/plain": [
              "<Figure size 1000x600 with 1 Axes>"
            ],
            "image/png": "[encoded data removed]"
          },
          "metadata": {}
        }
      ]
    },
    {
      "cell_type": "markdown",
      "source": [
        "#**Conclusión**\n",
        "\n",
        "El análisis de tipos de cueros en relación con el desgaste de las suelas (pérdida de peso) nos indica que los tipos de cuero A, B y D cumplen con el supuesto de normalidad, mientas que el cuero C no lo hace (.0246 < 0.05). Así mismo, la prueba de Bartlett rechazó la hipótesis nula de igualdad de varianzas entre los grupos (valor p = 0.0023), esto sugiere que las varianzas no son homogéneas.\n",
        "\n",
        "Dado que al menos uno de los tipos de cuero no cumple con la normalidad y las varianzas no son homogéneas, se utilizó la prueba no paramétrica de Kruskal-Wallis para analizar las diferencias. Resultando en la prueba que hay diferencias significativas entre los tipos de cuero; complementando esta información, la prueba de Turkey indica que:\n",
        "\n",
        "El cuero B presentó menor desgaste en comparación con el cuero C y A.\n",
        "El cuero C tuvo mayor desgaste en comparación con los demás.\n",
        "Los cueros A y D no presentaron diferencias significativas entre sí."
      ],
      "metadata": {
        "id": "AvbAiErzutA-"
      }
    },
    {
      "cell_type": "markdown",
      "source": [
        "3. En un centro de investigación se realiza un estudio para comparar varios tratamientos que, al aplicarse previamente a los frijoles crudos, reducen su tiempo de cocción. Estos tratamientos son a base de bicarbonato de sodio y cloruro de sodio o sal común. El primer tratamiento ($T_1$) es el de control, que consiste en no aplicar ningún tratamiento. El tratamiento $T_2$ es el remojo en agua con bicarbonato de sodio, el $T_3$ es remojar en agua con sal común y el $T_4$ es remojar en agua con una combinación de ambos ingredientes en proporciones iguales. La variable de respuesta es el tiempo de cocción en minutos. Los datos se muestran en la siguiente tabla:\n",
        "\n",
        "| $T_1$ | $T_2$  | $T_3$  | $T_4$  |\n",
        "|---------|-----|-----|-----|\n",
        "| 213     | 76  | 57  | 84  |\n",
        "| 214     | 85  | 67  | 82  |\n",
        "| 204     | 74  | 55  | 85  |\n",
        "| 208     | 78  | 64  | 92  |\n",
        "| 212     | 82  | 61  | 87  |\n",
        "| 200     | 75  | 63  | 79  |\n",
        "| 207     | 82  | 63  | 90  |\n",
        "\n"
      ],
      "metadata": {
        "id": "Iv0C5V5NWxgz"
      }
    },
    {
      "cell_type": "code",
      "source": [
        "import pandas as pd\n",
        "from io import StringIO\n",
        "\n",
        "# Datos proporcionados\n",
        "datos = '''\n",
        "tratamiento,tiempo\n",
        "T1,213\n",
        "T2,76\n",
        "T3,57\n",
        "T4,84\n",
        "T1,214\n",
        "T2,85\n",
        "T3,67\n",
        "T4,82\n",
        "T1,204\n",
        "T2,74\n",
        "T3,55\n",
        "T4,85\n",
        "T1,208\n",
        "T2,78\n",
        "T3,64\n",
        "T4,92\n",
        "T1,212\n",
        "T2,82\n",
        "T3,61\n",
        "T4,87\n",
        "T1,200\n",
        "T2,75\n",
        "T3,63\n",
        "T4,79\n",
        "T1,207\n",
        "T2,82\n",
        "T3,63\n",
        "T4,90\n",
        "'''\n",
        "\n",
        "# Convertir los datos en DataFrame\n",
        "df = pd.read_csv(StringIO(datos))\n",
        "df.reset_index(drop=True, inplace=True)\n",
        "\n",
        "print(df)\n",
        "\n",
        "#Anel Rocio Valdez Cabrera"
      ],
      "metadata": {
        "id": "-AvSz0JcmgQs",
        "colab": {
          "base_uri": "https://localhost:8080/"
        },
        "outputId": "9a6d0c56-b639-4be1-ddf9-8127f0d27552"
      },
      "execution_count": 18,
      "outputs": [
        {
          "output_type": "stream",
          "name": "stdout",
          "text": [
            "   tratamiento  tiempo\n",
            "0           T1     213\n",
            "1           T2      76\n",
            "2           T3      57\n",
            "3           T4      84\n",
            "4           T1     214\n",
            "5           T2      85\n",
            "6           T3      67\n",
            "7           T4      82\n",
            "8           T1     204\n",
            "9           T2      74\n",
            "10          T3      55\n",
            "11          T4      85\n",
            "12          T1     208\n",
            "13          T2      78\n",
            "14          T3      64\n",
            "15          T4      92\n",
            "16          T1     212\n",
            "17          T2      82\n",
            "18          T3      61\n",
            "19          T4      87\n",
            "20          T1     200\n",
            "21          T2      75\n",
            "22          T3      63\n",
            "23          T4      79\n",
            "24          T1     207\n",
            "25          T2      82\n",
            "26          T3      63\n",
            "27          T4      90\n"
          ]
        }
      ]
    },
    {
      "cell_type": "markdown",
      "source": [
        "#**Supuesto de normalidad: test de Shapiro**"
      ],
      "metadata": {
        "id": "KWipMxzg6OX4"
      }
    },
    {
      "cell_type": "code",
      "source": [
        "# Prueba de Shapiro\n",
        "\n",
        "from scipy.stats import shapiro\n",
        "nivel_de_significancia = 0.05\n",
        "\n",
        "# Función para realizar la prueba de Shapiro-Wilk y mostrar interpretación\n",
        "# NO MODIFICAR\n",
        "def prueba_shapiro(datos, nombre_grupo, nivel_de_significancia):\n",
        "    stat, p = shapiro(datos)\n",
        "    print(f\"\\nPrueba de Shapiro-Wilk para {nombre_grupo}:\")\n",
        "    print(f\"Estadístico: {stat:.4f}\")\n",
        "    print(f\"Valor p: {p:.4f}\")\n",
        "    if p > nivel_de_significancia:\n",
        "        print(\"Interpretación: Los datos tienen una distribución normal.\")\n",
        "    else:\n",
        "        print(\"Interpretación: Los datos no tienen una distribución normal.\")\n",
        "\n",
        "# Aplicar la prueba a cada grupo (parte modificable)\n",
        "prueba_shapiro(df[df['tratamiento'] == 'T1']['tiempo'], \"Tratamiento 1\", nivel_de_significancia)\n",
        "prueba_shapiro(df[df['tratamiento'] == 'T2']['tiempo'], \"Tratamiento 2\", nivel_de_significancia)\n",
        "prueba_shapiro(df[df['tratamiento'] == 'T3']['tiempo'], \"Tratamiento 3\", nivel_de_significancia)\n",
        "prueba_shapiro(df[df['tratamiento'] == 'T4']['tiempo'], \"Tratamiento 4\", nivel_de_significancia)"
      ],
      "metadata": {
        "colab": {
          "base_uri": "https://localhost:8080/"
        },
        "id": "2h1aeGo96Uyw",
        "outputId": "38710288-f99c-4d71-9781-fc9100f03b74"
      },
      "execution_count": 19,
      "outputs": [
        {
          "output_type": "stream",
          "name": "stdout",
          "text": [
            "\n",
            "Prueba de Shapiro-Wilk para Tratamiento 1:\n",
            "Estadístico: 0.9387\n",
            "Valor p: 0.6269\n",
            "Interpretación: Los datos tienen una distribución normal.\n",
            "\n",
            "Prueba de Shapiro-Wilk para Tratamiento 2:\n",
            "Estadístico: 0.9200\n",
            "Valor p: 0.4697\n",
            "Interpretación: Los datos tienen una distribución normal.\n",
            "\n",
            "Prueba de Shapiro-Wilk para Tratamiento 3:\n",
            "Estadístico: 0.9413\n",
            "Valor p: 0.6506\n",
            "Interpretación: Los datos tienen una distribución normal.\n",
            "\n",
            "Prueba de Shapiro-Wilk para Tratamiento 4:\n",
            "Estadístico: 0.9847\n",
            "Valor p: 0.9793\n",
            "Interpretación: Los datos tienen una distribución normal.\n"
          ]
        }
      ]
    },
    {
      "cell_type": "markdown",
      "source": [
        "#**Supuesto de homocedasticidad**"
      ],
      "metadata": {
        "id": "e8OZe7e96aRU"
      }
    },
    {
      "cell_type": "code",
      "source": [
        "from scipy.stats import bartlett\n",
        "nivel_de_significancia = 0.05\n",
        "\n",
        "# Aplicar la prueba de Bartlett\n",
        "stat, p_value = bartlett(\n",
        "    df[df['tratamiento'] == 'T1']['tiempo'],\n",
        "    df[df['tratamiento'] == 'T2']['tiempo'],\n",
        "    df[df['tratamiento'] == 'T3']['tiempo'],\n",
        "    df[df['tratamiento'] == 'T4']['tiempo'],\n",
        ")\n",
        "\n",
        "# Resultados\n",
        "print(\"Estadístico de Bartlett:\", stat)\n",
        "print(\"Valor p:\", p_value)\n",
        "\n",
        "# Interpretación\n",
        "if p_value < nivel_de_significancia:\n",
        "    print(\"Rechazamos la hipótesis nula: Las varianzas no son iguales.\")\n",
        "else:\n",
        "    print(\"No podemos rechazar la hipótesis nula: Las varianzas son iguales.\")\n",
        "\n",
        "    #Anel Rocio Valdez Cabrera"
      ],
      "metadata": {
        "colab": {
          "base_uri": "https://localhost:8080/"
        },
        "id": "BKEJ1trA6hNN",
        "outputId": "0fb776a0-b764-47f4-b897-2446caff0129"
      },
      "execution_count": 23,
      "outputs": [
        {
          "output_type": "stream",
          "name": "stdout",
          "text": [
            "Estadístico de Bartlett: 0.33019728661304565\n",
            "Valor p: 0.9542526447837091\n",
            "No podemos rechazar la hipótesis nula: Las varianzas son iguales.\n"
          ]
        }
      ]
    },
    {
      "cell_type": "markdown",
      "source": [
        "Nuestros tratamientos cumplen con nuestro suspuesto de normalidad y no podemos rechazar nuestra hipótesis nula, dado que las varianzas de los mismos métodos son iguales"
      ],
      "metadata": {
        "id": "CKSS_3zz6udB"
      }
    },
    {
      "cell_type": "markdown",
      "source": [
        "#**Tabla ANOVA**"
      ],
      "metadata": {
        "id": "xfZLEpfr7hH2"
      }
    },
    {
      "cell_type": "code",
      "source": [
        "import scipy.stats as stats\n",
        "\n",
        "nivel_de_significancia = 0.05\n",
        "\n",
        "# Realizar ANOVA\n",
        "anova_result = stats.f_oneway(\n",
        "    df[df['tratamiento'] == 'T1']['tiempo'],\n",
        "    df[df['tratamiento'] == 'T2']['tiempo'],\n",
        "    df[df['tratamiento'] == 'T3']['tiempo'],\n",
        "    df[df['tratamiento'] == 'T4']['tiempo'],\n",
        ")\n",
        "\n",
        "# Interpretar los resultados\n",
        "print(\"Resultados del ANOVA:\")\n",
        "print(f\"F-Estadístico: {anova_result.statistic:.2f}\")\n",
        "print(f\"Valor p: {anova_result.pvalue:.5f}\\n\")\n",
        "\n",
        "if anova_result.pvalue < nivel_de_significancia:\n",
        "    print(\"Conclusión: Hay diferencias significativas entre al menos dos grupos.\")\n",
        "else:\n",
        "    print(\"Conclusión: No hay diferencias significativas entre los grupos.\")\n",
        "\n",
        "    #Anel Rocio Valdez Cabrera"
      ],
      "metadata": {
        "colab": {
          "base_uri": "https://localhost:8080/"
        },
        "id": "DCzqP3jY7jyy",
        "outputId": "058aaf49-bd75-4362-88b2-cdb85bd62cec"
      },
      "execution_count": 21,
      "outputs": [
        {
          "output_type": "stream",
          "name": "stdout",
          "text": [
            "Resultados del ANOVA:\n",
            "F-Estadístico: 1558.97\n",
            "Valor p: 0.00000\n",
            "\n",
            "Conclusión: Hay diferencias significativas entre al menos dos grupos.\n"
          ]
        }
      ]
    },
    {
      "cell_type": "markdown",
      "source": [
        "#**Turkey**"
      ],
      "metadata": {
        "id": "luMxY2oZ71fp"
      }
    },
    {
      "cell_type": "code",
      "source": [
        "from statsmodels.stats.multicomp import pairwise_tukeyhsd\n",
        "import matplotlib.pyplot as plt\n",
        "\n",
        "nivel_de_significancia = 0.05\n",
        "\n",
        "# Prueba de Tukey\n",
        "tukey = pairwise_tukeyhsd(endog=df['tiempo'], groups=df['tratamiento'], alpha=nivel_de_significancia)\n",
        "\n",
        "# Mostrar los resultados\n",
        "print(tukey)\n",
        "\n",
        "# Gráfico de las diferencias entre grupos\n",
        "tukey.plot_simultaneous(ylabel=\"Grupos\", xlabel=\"Medias\")\n",
        "\n",
        "plt.gca().spines['right'].set_visible(False) # derecha\n",
        "plt.gca().spines['top'].set_visible(False)   # superior\n",
        "plt.title(\"Múltiples comparaciones entre todos los pares (Tukey)\")\n",
        "\n",
        "#Anel Rocio Valdez Cabrera"
      ],
      "metadata": {
        "colab": {
          "base_uri": "https://localhost:8080/",
          "height": 773
        },
        "id": "frC36EMV75oz",
        "outputId": "8f2a8050-b89c-4593-f3fd-b8ed8132c933"
      },
      "execution_count": 22,
      "outputs": [
        {
          "output_type": "stream",
          "name": "stdout",
          "text": [
            "   Multiple Comparison of Means - Tukey HSD, FWER=0.05   \n",
            "=========================================================\n",
            "group1 group2  meandiff p-adj    lower     upper   reject\n",
            "---------------------------------------------------------\n",
            "    T1     T2 -129.4286    0.0 -136.0757 -122.7815   True\n",
            "    T1     T3 -146.8571    0.0 -153.5043   -140.21   True\n",
            "    T1     T4 -122.7143    0.0 -129.3614 -116.0672   True\n",
            "    T2     T3  -17.4286    0.0  -24.0757  -10.7815   True\n",
            "    T2     T4    6.7143 0.0471    0.0672   13.3614   True\n",
            "    T3     T4   24.1429    0.0   17.4957     30.79   True\n",
            "---------------------------------------------------------\n"
          ]
        },
        {
          "output_type": "execute_result",
          "data": {
            "text/plain": [
              "Text(0.5, 1.0, 'Múltiples comparaciones entre todos los pares (Tukey)')"
            ]
          },
          "metadata": {},
          "execution_count": 22
        },
        {
          "output_type": "display_data",
          "data": {
            "text/plain": [
              "<Figure size 1000x600 with 1 Axes>"
            ],
            "image/png": "[encoded data removed]"
          },
          "metadata": {}
        }
      ]
    },
    {
      "cell_type": "markdown",
      "source": [
        "#**Conclusión**\n",
        "\n",
        "\n",
        "El análisis de los tratamientos aplicados a los frijoles para reducir su tiempo de cocción revela diferencias significativas entre ellos, como se muestra en nuestra prueva ANOVA (mostrandonos que F = 1558.97 < valor p  0.0001)< encontrandose en la prueba Turkey que T1 (control) tuvo el mayor tiempo de cocción, siendo significativamente diferente de los demás tratamientos.\n",
        "\n",
        "T3 (agua con sal común) presentó el menor tiempo de cocción.\n",
        "\n",
        "T2 (bicarbonato) y T4 (mezcla de bicarbonato y sal común) tuvieron tiempos intermedios, pero significativamente más bajos que el control (T1).\n",
        "\n",
        "Entre T2 y T4 no se encontraron diferencias significativas.\n",
        "\n",
        "A pesar de que según la prueba de Shapiro todos los tratamientos cumplen el supuesti de normalidad y la prueba de Bartlett confirmó la igualdad de varianzas entre los tratamientos\n"
      ],
      "metadata": {
        "id": "0JNwTGmo8oNe"
      }
    },
    {
      "cell_type": "markdown",
      "source": [
        "4. Para estudiar la confiabilidad de ciertos tableros electrónicos para carros, se someten a un envejecimiento acelerado durante 100 horas a determinada temperatura, y como variable de interés se mide la intensidad de corriente que circula entre dos puntos, cuyos valores aumentan con el deterioro. Se probaron 20 módulos repartidos de manera equitativa en cinco temperaturas y los resultados obtenidos fueron los siguientes:\n",
        "\n",
        "| 20°C | 40°C | 60°C | 80°C | 100°C |\n",
        "|------|------|------|------|-------|\n",
        "| 15   | 17   | 23   | 28   | 45    |\n",
        "| 18   | 21   | 19   | 32   | 51    |\n",
        "| 13   | 11   | 25   | 34   | 57    |\n",
        "| 12   | 16   | 22   | 31   | 48    |\n"
      ],
      "metadata": {
        "id": "O__s6jtmmgg0"
      }
    },
    {
      "cell_type": "code",
      "source": [
        "import pandas as pd\n",
        "from io import StringIO\n",
        "\n",
        "# Datos proporcionados\n",
        "datos = '''\n",
        "Temperatura,Intensidad\n",
        "20°C,15\n",
        "40°C,17\n",
        "60°C,23\n",
        "80°C,28\n",
        "100°C,45\n",
        "20°C,18\n",
        "40°C,21\n",
        "60°C,19\n",
        "80°C,32\n",
        "100°C,51\n",
        "20°C,13\n",
        "40°C,11\n",
        "60°C,25\n",
        "80°C,34\n",
        "100°C,57\n",
        "20°C,12\n",
        "40°C,16\n",
        "60°C,22\n",
        "80°C,31\n",
        "100°C,48\n",
        "'''\n",
        "\n",
        "# Crear DataFrame\n",
        "df = pd.read_csv(StringIO(datos))\n",
        "df.reset_index(drop=True, inplace=True)\n",
        "\n",
        "print(df)\n",
        "\n",
        "#Anle Rocio Valdez Cabrera"
      ],
      "metadata": {
        "id": "xo-vq028m2HS",
        "colab": {
          "base_uri": "https://localhost:8080/"
        },
        "outputId": "fbde8013-f16a-4f46-f23c-8b2b7844e854"
      },
      "execution_count": 24,
      "outputs": [
        {
          "output_type": "stream",
          "name": "stdout",
          "text": [
            "   Temperatura  Intensidad\n",
            "0         20°C          15\n",
            "1         40°C          17\n",
            "2         60°C          23\n",
            "3         80°C          28\n",
            "4        100°C          45\n",
            "5         20°C          18\n",
            "6         40°C          21\n",
            "7         60°C          19\n",
            "8         80°C          32\n",
            "9        100°C          51\n",
            "10        20°C          13\n",
            "11        40°C          11\n",
            "12        60°C          25\n",
            "13        80°C          34\n",
            "14       100°C          57\n",
            "15        20°C          12\n",
            "16        40°C          16\n",
            "17        60°C          22\n",
            "18        80°C          31\n",
            "19       100°C          48\n"
          ]
        }
      ]
    },
    {
      "cell_type": "markdown",
      "source": [
        "# **Supuestos dee normalidad: test de Shapiro**"
      ],
      "metadata": {
        "id": "ipYD0utUCusa"
      }
    },
    {
      "cell_type": "code",
      "source": [
        "# Prueba de Shapiro\n",
        "\n",
        "from scipy.stats import shapiro\n",
        "nivel_de_significancia = 0.05\n",
        "\n",
        "# Función para realizar la prueba de Shapiro-Wilk y mostrar interpretación\n",
        "# NO MODIFICAR\n",
        "def prueba_shapiro(datos, nombre_grupo, nivel_de_significancia):\n",
        "    stat, p = shapiro(datos)\n",
        "    print(f\"\\nPrueba de Shapiro-Wilk para {nombre_grupo}:\")\n",
        "    print(f\"Estadístico: {stat:.4f}\")\n",
        "    print(f\"Valor p: {p:.4f}\")\n",
        "    if p > nivel_de_significancia:\n",
        "        print(\"Interpretación: Los datos tienen una distribución normal.\")\n",
        "    else:\n",
        "        print(\"Interpretación: Los datos no tienen una distribución normal.\")\n",
        "\n",
        "# Aplicar la prueba a cada grupo (parte modificable)\n",
        "prueba_shapiro(df[df['Temperatura'] == '20°C']['Intensidad'], \"Temperatura 20°C\", nivel_de_significancia)\n",
        "prueba_shapiro(df[df['Temperatura'] == '40°C']['Intensidad'], \"Temperatura 40°C\", nivel_de_significancia)\n",
        "prueba_shapiro(df[df['Temperatura'] == '60°C']['Intensidad'], \"Temperatura 60°C\", nivel_de_significancia)\n",
        "prueba_shapiro(df[df['Temperatura'] == '80°C']['Intensidad'], \"Temperatura 80°C\", nivel_de_significancia)\n",
        "prueba_shapiro(df[df['Temperatura'] == '100°C']['Intensidad'], \"Temperatura 100°C\", nivel_de_significancia)\n",
        "\n",
        "#Anel Rocio Valdez Cabrera"
      ],
      "metadata": {
        "colab": {
          "base_uri": "https://localhost:8080/"
        },
        "id": "i7qSuz-CCyht",
        "outputId": "cd993405-7225-40f2-93c4-132b989013cc"
      },
      "execution_count": 25,
      "outputs": [
        {
          "output_type": "stream",
          "name": "stdout",
          "text": [
            "\n",
            "Prueba de Shapiro-Wilk para Temperatura 20°C:\n",
            "Estadístico: 0.9456\n",
            "Valor p: 0.6889\n",
            "Interpretación: Los datos tienen una distribución normal.\n",
            "\n",
            "Prueba de Shapiro-Wilk para Temperatura 40°C:\n",
            "Estadístico: 0.9763\n",
            "Valor p: 0.8800\n",
            "Interpretación: Los datos tienen una distribución normal.\n",
            "\n",
            "Prueba de Shapiro-Wilk para Temperatura 60°C:\n",
            "Estadístico: 0.9815\n",
            "Valor p: 0.9109\n",
            "Interpretación: Los datos tienen una distribución normal.\n",
            "\n",
            "Prueba de Shapiro-Wilk para Temperatura 80°C:\n",
            "Estadístico: 0.9815\n",
            "Valor p: 0.9109\n",
            "Interpretación: Los datos tienen una distribución normal.\n",
            "\n",
            "Prueba de Shapiro-Wilk para Temperatura 100°C:\n",
            "Estadístico: 0.9714\n",
            "Valor p: 0.8500\n",
            "Interpretación: Los datos tienen una distribución normal.\n"
          ]
        }
      ]
    },
    {
      "cell_type": "markdown",
      "source": [
        "#**Supuesto homoscedasticidad: test de Barlett**"
      ],
      "metadata": {
        "id": "l4rDqTmTDAis"
      }
    },
    {
      "cell_type": "code",
      "source": [
        "from scipy.stats import bartlett\n",
        "nivel_de_significancia = 0.05\n",
        "\n",
        "# Aplicar la prueba de Bartlett\n",
        "stat, p_value = bartlett(\n",
        "    df[df['Temperatura'] == '20°C']['Intensidad'],\n",
        "    df[df['Temperatura'] == '40°C']['Intensidad'],\n",
        "    df[df['Temperatura'] == '60°C']['Intensidad'],\n",
        "    df[df['Temperatura'] == '80°C']['Intensidad'],\n",
        "    df[df['Temperatura'] == '100°C']['Intensidad'],\n",
        ")\n",
        "\n",
        "# Resultados\n",
        "print(\"Estadístico de Bartlett:\", stat)\n",
        "print(\"Valor p:\", p_value)\n",
        "\n",
        "# Interpretación\n",
        "if p_value < nivel_de_significancia:\n",
        "    print(\"Rechazamos la hipótesis nula: Las varianzas no son iguales.\")\n",
        "else:\n",
        "    print(\"No podemos rechazar la hipótesis nula: Las varianzas son iguales.\")\n",
        "\n",
        "    #Anel Rocio Valdez Cabrera"
      ],
      "metadata": {
        "colab": {
          "base_uri": "https://localhost:8080/"
        },
        "id": "OkFqXDvdDCYR",
        "outputId": "e104e5f3-17be-4eca-a30f-c0016df5cb8a"
      },
      "execution_count": 26,
      "outputs": [
        {
          "output_type": "stream",
          "name": "stdout",
          "text": [
            "Estadístico de Bartlett: 2.474789330634734\n",
            "Valor p: 0.6491557722441552\n",
            "No podemos rechazar la hipótesis nula: Las varianzas son iguales.\n"
          ]
        }
      ]
    },
    {
      "cell_type": "markdown",
      "source": [],
      "metadata": {
        "id": "JhkGPjB9DMoh"
      }
    },
    {
      "cell_type": "markdown",
      "source": [
        "#**Tabla ANOVA**"
      ],
      "metadata": {
        "id": "RK_NLgdWDQig"
      }
    },
    {
      "cell_type": "code",
      "source": [
        "import scipy.stats as stats\n",
        "\n",
        "nivel_de_significancia = 0.05\n",
        "\n",
        "# Realizar ANOVA\n",
        "anova_result = stats.f_oneway(\n",
        "    df[df['Temperatura'] == '20°C']['Intensidad'],\n",
        "    df[df['Temperatura'] == '40°C']['Intensidad'],\n",
        "    df[df['Temperatura'] == '60°C']['Intensidad'],\n",
        "    df[df['Temperatura'] == '80°C']['Intensidad'],\n",
        "    df[df['Temperatura'] == '100°C']['Intensidad'],\n",
        ")\n",
        "\n",
        "# Interpretar los resultados\n",
        "print(\"Resultados del ANOVA:\")\n",
        "print(f\"F-Estadístico: {anova_result.statistic:.2f}\")\n",
        "print(f\"Valor p: {anova_result.pvalue:.5f}\\n\")\n",
        "\n",
        "if anova_result.pvalue < nivel_de_significancia:\n",
        "    print(\"Conclusión: Hay diferencias significativas entre al menos dos grupos.\")\n",
        "else:\n",
        "    print(\"Conclusión: No hay diferencias significativas entre los grupos.\")\n",
        "\n",
        "    #Anel Rocio Valdez Cabrera"
      ],
      "metadata": {
        "colab": {
          "base_uri": "https://localhost:8080/"
        },
        "id": "zYETAZHKDP-1",
        "outputId": "c3184adb-edd2-4adf-c8a0-8c091765fbcd"
      },
      "execution_count": 27,
      "outputs": [
        {
          "output_type": "stream",
          "name": "stdout",
          "text": [
            "Resultados del ANOVA:\n",
            "F-Estadístico: 68.05\n",
            "Valor p: 0.00000\n",
            "\n",
            "Conclusión: Hay diferencias significativas entre al menos dos grupos.\n"
          ]
        }
      ]
    },
    {
      "cell_type": "markdown",
      "source": [
        "#**Turkey**"
      ],
      "metadata": {
        "id": "vBwyCX6LJ3qW"
      }
    },
    {
      "cell_type": "code",
      "source": [
        "from statsmodels.stats.multicomp import pairwise_tukeyhsd\n",
        "import matplotlib.pyplot as plt\n",
        "\n",
        "nivel_de_significancia = 0.05\n",
        "\n",
        "# Prueba de Tukey\n",
        "tukey = pairwise_tukeyhsd(endog=df['Intensidad'], groups=df['Temperatura'], alpha=nivel_de_significancia)\n",
        "\n",
        "# Mostrar los resultados\n",
        "print(tukey)\n",
        "\n",
        "# Gráfico de las diferencias entre grupos\n",
        "tukey.plot_simultaneous(ylabel=\"Grupos\", xlabel=\"Medias\")\n",
        "\n",
        "plt.gca().spines['right'].set_visible(False) # derecha\n",
        "plt.gca().spines['top'].set_visible(False)   # superior\n",
        "plt.title(\"Múltiples comparaciones entre todos los pares (Tukey)\")\n",
        "\n",
        "#Anel Rocio Valdez Cabrera"
      ],
      "metadata": {
        "colab": {
          "base_uri": "https://localhost:8080/",
          "height": 843
        },
        "id": "yKVFlqUiJ9fJ",
        "outputId": "0874a382-f961-4ea2-ae1f-cf131f5f4c2c"
      },
      "execution_count": 28,
      "outputs": [
        {
          "output_type": "stream",
          "name": "stdout",
          "text": [
            " Multiple Comparison of Means - Tukey HSD, FWER=0.05  \n",
            "======================================================\n",
            "group1 group2 meandiff p-adj   lower    upper   reject\n",
            "------------------------------------------------------\n",
            " 100°C   20°C   -35.75    0.0 -43.4801 -28.0199   True\n",
            " 100°C   40°C    -34.0    0.0 -41.7301 -26.2699   True\n",
            " 100°C   60°C    -28.0    0.0 -35.7301 -20.2699   True\n",
            " 100°C   80°C    -19.0    0.0 -26.7301 -11.2699   True\n",
            "  20°C   40°C     1.75 0.9535  -5.9801   9.4801  False\n",
            "  20°C   60°C     7.75 0.0493   0.0199  15.4801   True\n",
            "  20°C   80°C    16.75 0.0001   9.0199  24.4801   True\n",
            "  40°C   60°C      6.0 0.1696  -1.7301  13.7301  False\n",
            "  40°C   80°C     15.0 0.0002   7.2699  22.7301   True\n",
            "  60°C   80°C      9.0 0.0191   1.2699  16.7301   True\n",
            "------------------------------------------------------\n"
          ]
        },
        {
          "output_type": "execute_result",
          "data": {
            "text/plain": [
              "Text(0.5, 1.0, 'Múltiples comparaciones entre todos los pares (Tukey)')"
            ]
          },
          "metadata": {},
          "execution_count": 28
        },
        {
          "output_type": "display_data",
          "data": {
            "text/plain": [
              "<Figure size 1000x600 with 1 Axes>"
            ],
            "image/png": "[encoded data removed]"
          },
          "metadata": {}
        }
      ]
    },
    {
      "cell_type": "markdown",
      "source": [
        "#**Conclusión**\n",
        "\n",
        "\n",
        "El análisis de los valores de intensidad de corriente en cinco niveles de temperatura reveló diferencias significativas entre los grupos. La prueba de Shapiro-Wilk confirma que los datos en cada nivel de temperatura siguen una distribución normal (p > 0.05). Mientras que  la prueba de Bartlett muestra que las varianzas entre los grupos son homogéneas (p = 0.6492). Esto valida el uso del análisis ANOVA; el cual muestra diferencias significativas en las intensidades de corriente medidas a diferentes temperaturas. Lo que  sugiere que la temperatura tiene un impacto significativo en el deterioro medido por la intensidad de corriente.\n",
        "\n",
        "\n",
        "Sin embargo, los resultados de nuestra prueba Tukey indican que:\n",
        "\n",
        "Las temperaturas más altas (80°C y 100°C) tuvieron valores significativamente mayores de intensidad de corriente en comparación con las temperaturas más bajas (20°C, 40°C, y 60°C).\n",
        "\n",
        "100°C mostró las intensidades de corriente más altas, lo que refleja el mayor deterioro.\n",
        "\n",
        "Entre las temperaturas más bajas (20°C y 40°C), no se encontraron diferencias significativas.\n",
        "\n",
        "La intensidad de corriente aumenta significativamente con la temperatura, especialmente en niveles superiores a 60°C, lo que indica un mayor deterioro de los tableros electrónicos a temperaturas altas. Dado que el gráfico generado muestra las medias de intensidad de corriente para cada nivel de temperatura con intervalos de confianza, indicando visualmente las diferencias entre grupos.\n"
      ],
      "metadata": {
        "id": "l03YM8kFKsXC"
      }
    },
    {
      "cell_type": "markdown",
      "source": [
        "5. En una empresa de manufactura se propone un tratamiento para reducir el porcentaje de productos defectuosos. Para validar esta propuesta se diseñó un experimento en el que se producía con o sin la propuesta de mejora. Cada corrida experimental consistió en producir un lote y la variable de respuesta es el porcentaje de producto defectuoso. Se hicieron 25 réplicas para cada tratamiento. Los datos obtenidos se muestran a continuación:\n",
        "\n",
        "| Tratamiento     | Porcentaje de producto defectuoso                                     |\n",
        "|-----------------|----------------------------------------------------------------------|\n",
        "| Con tratam.     | 5.3, 4.0, 4.0, 4.0, 2.6, 2.1, 5.1, 4.1, 4.1, 3.2, 5.1, 2.2, 4.1     |\n",
        "| Sin tratam.     | 8.0, 13.2, 7.2, 8.2, 9.1, 6.7, 12.6, 16.3, 9.2, 6.4, 7.2, 17.2, 12.3 |\n"
      ],
      "metadata": {
        "id": "_OzUCEZhm2jp"
      }
    },
    {
      "cell_type": "code",
      "source": [
        "import pandas as pd\n",
        "from io import StringIO\n",
        "\n",
        "# Datos en formato CSV\n",
        "datos = '''\n",
        "Tratamiento,Porcentaje\n",
        "con_tratamiento,5.3\n",
        "con_tratamiento,4.0\n",
        "con_tratamiento,4.0\n",
        "con_tratamiento,2.6\n",
        "con_tratamiento,2.1\n",
        "con_tratamiento,5.1\n",
        "con_tratamiento,4.1\n",
        "con_tratamiento,3.2\n",
        "con_tratamiento,5.1\n",
        "con_tratamiento,2.2\n",
        "con_tratamiento,4.1\n",
        "sin_tratamiento,8.0\n",
        "sin_tratamiento,13.2\n",
        "sin_tratamiento,7.2\n",
        "sin_tratamiento,8.2\n",
        "sin_tratamiento,9.1\n",
        "sin_tratamiento,6.7\n",
        "sin_tratamiento,12.6\n",
        "sin_tratamiento,16.3\n",
        "sin_tratamiento,9.2\n",
        "sin_tratamiento,6.4\n",
        "sin_tratamiento,7.2\n",
        "sin_tratamiento,17.2\n",
        "sin_tratamiento,12.3\n",
        "'''\n",
        "\n",
        "# Convertir a DataFrame\n",
        "df = pd.read_csv(StringIO(datos))\n",
        "df.reset_index(drop=True, inplace=True)\n",
        "\n",
        "print(df)\n",
        "\n",
        "#Anel Rocio Valdez Cabrera"
      ],
      "metadata": {
        "id": "_8XVTHw6nF92",
        "colab": {
          "base_uri": "https://localhost:8080/"
        },
        "outputId": "b784b7e6-041d-484e-de91-352957bdcc2b"
      },
      "execution_count": 29,
      "outputs": [
        {
          "output_type": "stream",
          "name": "stdout",
          "text": [
            "        Tratamiento  Porcentaje\n",
            "0   con_tratamiento         5.3\n",
            "1   con_tratamiento         4.0\n",
            "2   con_tratamiento         4.0\n",
            "3   con_tratamiento         2.6\n",
            "4   con_tratamiento         2.1\n",
            "5   con_tratamiento         5.1\n",
            "6   con_tratamiento         4.1\n",
            "7   con_tratamiento         3.2\n",
            "8   con_tratamiento         5.1\n",
            "9   con_tratamiento         2.2\n",
            "10  con_tratamiento         4.1\n",
            "11  sin_tratamiento         8.0\n",
            "12  sin_tratamiento        13.2\n",
            "13  sin_tratamiento         7.2\n",
            "14  sin_tratamiento         8.2\n",
            "15  sin_tratamiento         9.1\n",
            "16  sin_tratamiento         6.7\n",
            "17  sin_tratamiento        12.6\n",
            "18  sin_tratamiento        16.3\n",
            "19  sin_tratamiento         9.2\n",
            "20  sin_tratamiento         6.4\n",
            "21  sin_tratamiento         7.2\n",
            "22  sin_tratamiento        17.2\n",
            "23  sin_tratamiento        12.3\n"
          ]
        }
      ]
    },
    {
      "cell_type": "markdown",
      "source": [
        "#**Supuesto de normalidad: test de Shapiro**"
      ],
      "metadata": {
        "id": "kirqLynMN9a4"
      }
    },
    {
      "cell_type": "code",
      "source": [
        "# Prueba de Shapiro\n",
        "\n",
        "from scipy.stats import shapiro\n",
        "nivel_de_significancia = 0.05\n",
        "\n",
        "# Función para realizar la prueba de Shapiro-Wilk y mostrar interpretación\n",
        "# NO MODIFICAR\n",
        "def prueba_shapiro(datos, nombre_grupo, nivel_de_significancia):\n",
        "    stat, p = shapiro(datos)\n",
        "    print(f\"\\nPrueba de Shapiro-Wilk para {nombre_grupo}:\")\n",
        "    print(f\"Estadístico: {stat:.4f}\")\n",
        "    print(f\"Valor p: {p:.4f}\")\n",
        "    if p > nivel_de_significancia:\n",
        "        print(\"Interpretación: Los datos tienen una distribución normal.\")\n",
        "    else:\n",
        "        print(\"Interpretación: Los datos no tienen una distribución normal.\")\n",
        "\n",
        "# Aplicar la prueba a cada grupo (parte modificable)\n",
        "prueba_shapiro(df[df['Tratamiento'] == 'con_tratamiento']['porcentaje'], \"con_tratamientoTratamiento\", nivel_de_significancia)\n",
        "prueba_shapiro(df[df['Tratamiento'] == 'sin_tratamiento']['porcentaje'], \"sin_tratamiento\", nivel_de_significancia)\n",
        "\n",
        "\n",
        "#Anel Rocio Valdez Cabrera"
      ],
      "metadata": {
        "colab": {
          "base_uri": "https://localhost:8080/",
          "height": 211
        },
        "id": "b9lwmxzQOCt8",
        "outputId": "4c1f9425-39e8-4cc5-e48b-ef62c2cdf202"
      },
      "execution_count": 1,
      "outputs": [
        {
          "output_type": "error",
          "ename": "NameError",
          "evalue": "name 'df' is not defined",
          "traceback": [
            "\u001b[0;31m---------------------------------------------------------------------------\u001b[0m",
            "\u001b[0;31mNameError\u001b[0m                                 Traceback (most recent call last)",
            "\u001b[0;32m<ipython-input-1-326e9171477b>\u001b[0m in \u001b[0;36m<cell line: 19>\u001b[0;34m()\u001b[0m\n\u001b[1;32m     17\u001b[0m \u001b[0;34m\u001b[0m\u001b[0m\n\u001b[1;32m     18\u001b[0m \u001b[0;31m# Aplicar la prueba a cada grupo (parte modificable)\u001b[0m\u001b[0;34m\u001b[0m\u001b[0;34m\u001b[0m\u001b[0m\n\u001b[0;32m---> 19\u001b[0;31m \u001b[0mprueba_shapiro\u001b[0m\u001b[0;34m(\u001b[0m\u001b[0mdf\u001b[0m\u001b[0;34m[\u001b[0m\u001b[0mdf\u001b[0m\u001b[0;34m[\u001b[0m\u001b[0;34m'tratamiento'\u001b[0m\u001b[0;34m]\u001b[0m \u001b[0;34m==\u001b[0m \u001b[0;34m'con_tratamiento'\u001b[0m\u001b[0;34m]\u001b[0m\u001b[0;34m[\u001b[0m\u001b[0;34m'porcentaje'\u001b[0m\u001b[0;34m]\u001b[0m\u001b[0;34m,\u001b[0m \u001b[0;34m\"con_tratamientoTratamiento\"\u001b[0m\u001b[0;34m,\u001b[0m \u001b[0mnivel_de_significancia\u001b[0m\u001b[0;34m)\u001b[0m\u001b[0;34m\u001b[0m\u001b[0;34m\u001b[0m\u001b[0m\n\u001b[0m\u001b[1;32m     20\u001b[0m \u001b[0mprueba_shapiro\u001b[0m\u001b[0;34m(\u001b[0m\u001b[0mdf\u001b[0m\u001b[0;34m[\u001b[0m\u001b[0mdf\u001b[0m\u001b[0;34m[\u001b[0m\u001b[0;34m'tratamiento'\u001b[0m\u001b[0;34m]\u001b[0m \u001b[0;34m==\u001b[0m \u001b[0;34m'sin_tratamiento'\u001b[0m\u001b[0;34m]\u001b[0m\u001b[0;34m[\u001b[0m\u001b[0;34m'porcentaje'\u001b[0m\u001b[0;34m]\u001b[0m\u001b[0;34m,\u001b[0m \u001b[0;34m\"sin_tratamiento\"\u001b[0m\u001b[0;34m,\u001b[0m \u001b[0mnivel_de_significancia\u001b[0m\u001b[0;34m)\u001b[0m\u001b[0;34m\u001b[0m\u001b[0;34m\u001b[0m\u001b[0m\n\u001b[1;32m     21\u001b[0m \u001b[0;34m\u001b[0m\u001b[0m\n",
            "\u001b[0;31mNameError\u001b[0m: name 'df' is not defined"
          ]
        }
      ]
    },
    {
      "cell_type": "markdown",
      "source": [
        "**Supuesto homoscedasticidad: test de Barlett**"
      ],
      "metadata": {
        "id": "MiSB1RIwOK4Z"
      }
    },
    {
      "cell_type": "code",
      "source": [
        "nivel_de_significancia = 0.05\n",
        "\n",
        "# Aplicar la prueba de Bartlett\n",
        "stat, p_value = bartlett(\n",
        "\n",
        "   df[df['Tratamiento'] == 'con_tratamiento']['porcentaje'],\n",
        "   df[df['Tratamiento'] == 'sin_tratamiento']['porcentaje'],\n",
        ")\n",
        "\n",
        "# Resultados\n",
        "print(\"Estadístico de Bartlett:\", stat)\n",
        "print(\"Valor p:\", p_value)\n",
        "\n",
        "# Interpretación\n",
        "if p_value < nivel_de_significancia:\n",
        "    print(\"Rechazamos la hipótesis nula: Las varianzas no son iguales.\")\n",
        "else:\n",
        "    print(\"No podemos rechazar la hipótesis nula: Las varianzas son iguales.\")\n",
        "\n",
        "    #Anel Rocio Valdez Cabrera"
      ],
      "metadata": {
        "id": "o7MoHUjnOOlw"
      },
      "execution_count": null,
      "outputs": []
    },
    {
      "cell_type": "markdown",
      "source": [
        "#**Kruskal**"
      ],
      "metadata": {
        "id": "IuP9GU21OWos"
      }
    },
    {
      "cell_type": "code",
      "source": [],
      "metadata": {
        "id": "eiwexw2cOgMT"
      },
      "execution_count": null,
      "outputs": []
    },
    {
      "cell_type": "code",
      "source": [
        "# Si al menos un grupo no sigue una distribución normal\n",
        "from scipy.stats import kruskal\n",
        "\n",
        "# Prueba de Kruskal-Wallis\n",
        "kruskal_result = kruskal(\n",
        "    df[df['Tratamiento'] == 'con_tratamiento']['porcentaje'],\n",
        "    df[df['Tratamiento'] == 'sin_tratamiento']['porcentaje']\n",
        ")\n",
        "\n",
        "# Mostrar resultados\n",
        "print(\"Resultados de la prueba de Kruskal-Wallis:\")\n",
        "print(f\"Estadístico de prueba: {kruskal_result.statistic:.2f}\")\n",
        "print(f\"Valor p: {kruskal_result.pvalue:.4f}\")\n",
        "\n",
        "# Interpretación\n",
        "if kruskal_result.pvalue < 0.05:\n",
        "    print(\"\\nInterpretación: Existen diferencias significativas entre al menos dos grupos.\")\n",
        "else:\n",
        "    print(\"\\nInterpretación: No hay diferencias significativas entre los grupos.\")\n",
        "\n",
        "    #Anel Rocio Valdez Cabrera"
      ],
      "metadata": {
        "colab": {
          "base_uri": "https://localhost:8080/"
        },
        "id": "BJzAPgFIhfz7",
        "outputId": "823a0c0e-cb53-406e-e7c0-e505f30ed744"
      },
      "execution_count": null,
      "outputs": [
        {
          "output_type": "stream",
          "name": "stdout",
          "text": [
            "Resultados de la prueba de Kruskal-Wallis:\n",
            "Estadístico de prueba: 17.19\n",
            "Valor p: 0.0000\n",
            "\n",
            "Interpretación: Existen diferencias significativas entre al menos dos grupos.\n"
          ]
        }
      ]
    },
    {
      "cell_type": "markdown",
      "source": [
        "#**Turkey**"
      ],
      "metadata": {
        "id": "OidZE3C2OuyM"
      }
    },
    {
      "cell_type": "code",
      "source": [
        "from statsmodels.stats.multicomp import pairwise_tukeyhsd\n",
        "import matplotlib.pyplot as plt\n",
        "\n",
        "nivel_de_significancia = 0.05\n",
        "\n",
        "# Prueba de Tukey\n",
        "tukey = pairwise_tukeyhsd(endog=df['porcentaje'], groups=df['Tratamiento'], alpha=nivel_de_significancia)\n",
        "\n",
        "# Mostrar los resultados\n",
        "print(tukey)\n",
        "\n",
        "# Gráfico de las diferencias entre grupos\n",
        "tukey.plot_simultaneous(ylabel=\"Grupos\", xlabel=\"Medias\")\n",
        "\n",
        "plt.gca().spines['right'].set_visible(False) # derecha\n",
        "plt.gca().spines['top'].set_visible(False)   # superior\n",
        "plt.title(\"Múltiples comparaciones entre todos los pares (Tukey)\")\n",
        "\n",
        "#Anel Rocio Valdez Cabrera"
      ],
      "metadata": {
        "id": "r4c-J9NAO4FG"
      },
      "execution_count": null,
      "outputs": []
    },
    {
      "cell_type": "markdown",
      "source": [
        "6. Una compañía farmacéutica desea evaluar el efecto que tiene la cantidad de almidón en la dureza de las tabletas. Se decidió producir lotes con una cantidad determinada de almidón, y que las cantidades de almidón a aprobar fueran 2%, 5% y 10%. La variable de respuesta sería el promedio de la dureza de 20 tabletas de cada lote. Se hicieron 4 réplicas por tratamiento y se obtuvieron los siguientes resultados:\n",
        "\n",
        "| % de almidón | Dureza               |\n",
        "|--------------|----------------------|\n",
        "| 2            | 4.3, 5.2, 4.8, 4.5  |\n",
        "| 5            | 6.5, 7.3, 6.9, 6.1  |\n",
        "| 10           | 9.0, 7.8, 8.5, 8.1  |\n"
      ],
      "metadata": {
        "id": "0cB4IkspnGRp"
      }
    },
    {
      "cell_type": "code",
      "source": [
        "import pandas as pd\n",
        "from io import StringIO\n",
        "\n",
        "# Datos en formato CSV\n",
        "datos = '''\n",
        "%_almidon,Dureza\n",
        "2,4.3\n",
        "2,5.2\n",
        "2,4.8\n",
        "2,4.5\n",
        "5,6.5\n",
        "5,7.3\n",
        "5,6.9\n",
        "5,6.1\n",
        "10,9.0\n",
        "10,7.8\n",
        "10,8.5\n",
        "10,8.1\n",
        "'''\n",
        "\n",
        "# Convertir a DataFrame\n",
        "df = pd.read_csv(StringIO(datos))\n",
        "df.reset_index(drop=True, inplace=True)\n",
        "\n",
        "print(df)\n",
        "\n",
        "#Anel Rocio Valdez Cabrera"
      ],
      "metadata": {
        "id": "H5cJ4CrlnVJw",
        "colab": {
          "base_uri": "https://localhost:8080/"
        },
        "outputId": "73be1b2c-547c-43f2-c726-f19d1bde5b38"
      },
      "execution_count": 2,
      "outputs": [
        {
          "output_type": "stream",
          "name": "stdout",
          "text": [
            "    %_almidon  Dureza\n",
            "0           2     4.3\n",
            "1           2     5.2\n",
            "2           2     4.8\n",
            "3           2     4.5\n",
            "4           5     6.5\n",
            "5           5     7.3\n",
            "6           5     6.9\n",
            "7           5     6.1\n",
            "8          10     9.0\n",
            "9          10     7.8\n",
            "10         10     8.5\n",
            "11         10     8.1\n"
          ]
        }
      ]
    },
    {
      "cell_type": "markdown",
      "source": [
        "#**Supuesto de normalidad**"
      ],
      "metadata": {
        "id": "lNb8b7uqXnwN"
      }
    },
    {
      "cell_type": "code",
      "source": [
        "from scipy.stats import shapiro\n",
        "nivel_de_significancia = 0.05\n",
        "\n",
        "# Función para realizar la prueba de Shapiro-Wilk y mostrar interpretación\n",
        "def prueba_shapiro(datos, nombre_grupo, nivel_de_significancia):\n",
        "    if len(datos) < 3:\n",
        "        print(f\"\\nPrueba de Shapiro-Wilk para {nombre_grupo}: No hay suficientes datos (mínimo 3).\")\n",
        "        return\n",
        "    stat, p = shapiro(datos)\n",
        "    print(f\"\\nPrueba de Shapiro-Wilk para {nombre_grupo}:\")\n",
        "    print(f\"Estadístico: {stat:.4f}\")\n",
        "    print(f\"Valor p: {p:.4f}\")\n",
        "    if p > nivel_de_significancia:\n",
        "        print(\"Interpretación: Los datos tienen una distribución normal.\")\n",
        "    else:\n",
        "        print(\"Interpretación: Los datos no tienen una distribución normal.\")\n",
        "\n",
        "# Aplicar la prueba a cada grupo\n",
        "prueba_shapiro(df[df['%_almidon'] == 2]['Dureza'], \"Grupo 2\", nivel_de_significancia)\n",
        "prueba_shapiro(df[df['%_almidon'] == 5]['Dureza'], \"Grupo 5\", nivel_de_significancia)\n",
        "prueba_shapiro(df[df['%_almidon'] == 10]['Dureza'], \"Grupo 10\", nivel_de_significancia)\n",
        "\n",
        "#Anel Rocio Valdez Cabrera"
      ],
      "metadata": {
        "colab": {
          "base_uri": "https://localhost:8080/"
        },
        "id": "RTjn6_b7b-pZ",
        "outputId": "6c30098a-b0c5-4468-ce4a-14966bd5e8b2"
      },
      "execution_count": 3,
      "outputs": [
        {
          "output_type": "stream",
          "name": "stdout",
          "text": [
            "\n",
            "Prueba de Shapiro-Wilk para Grupo 2:\n",
            "Estadístico: 0.9713\n",
            "Valor p: 0.8497\n",
            "Interpretación: Los datos tienen una distribución normal.\n",
            "\n",
            "Prueba de Shapiro-Wilk para Grupo 5:\n",
            "Estadístico: 0.9929\n",
            "Valor p: 0.9719\n",
            "Interpretación: Los datos tienen una distribución normal.\n",
            "\n",
            "Prueba de Shapiro-Wilk para Grupo 10:\n",
            "Estadístico: 0.9807\n",
            "Valor p: 0.9058\n",
            "Interpretación: Los datos tienen una distribución normal.\n"
          ]
        }
      ]
    },
    {
      "cell_type": "markdown",
      "source": [
        "#**Supuesto de homocesasticidad**"
      ],
      "metadata": {
        "id": "l6MjMP4PXsXD"
      }
    },
    {
      "cell_type": "code",
      "source": [
        "from scipy.stats import bartlett\n",
        "nivel_de_significancia = 0.05\n",
        "\n",
        "# Aplicar la prueba de Bartlett\n",
        "stat, p_value = bartlett(\n",
        "    df[df['%_almidon'] == 2]['Dureza'],\n",
        "    df[df['%_almidon'] == 5]['Dureza'],\n",
        "    df[df['%_almidon'] == 10]['Dureza'],\n",
        "\n",
        ")\n",
        "\n",
        "# Resultados\n",
        "print(\"Estadístico de Bartlett:\", stat)\n",
        "print(\"Valor p:\", p_value)\n",
        "\n",
        "# Interpretación\n",
        "if p_value < nivel_de_significancia:\n",
        "    print(\"Rechazamos la hipótesis nula: Las varianzas no son iguales.\")\n",
        "else:\n",
        "    print(\"No podemos rechazar la hipótesis nula: Las varianzas son iguales.\")\n",
        "\n",
        "    #Anel Rocio Valdez Cabrera"
      ],
      "metadata": {
        "colab": {
          "base_uri": "https://localhost:8080/"
        },
        "id": "SW2XNW8EXyw6",
        "outputId": "b2690ad1-9684-4b0d-987d-1bab40628475"
      },
      "execution_count": 4,
      "outputs": [
        {
          "output_type": "stream",
          "name": "stdout",
          "text": [
            "Estadístico de Bartlett: 0.25398027627307607\n",
            "Valor p: 0.8807423583152111\n",
            "No podemos rechazar la hipótesis nula: Las varianzas son iguales.\n"
          ]
        }
      ]
    },
    {
      "cell_type": "markdown",
      "source": [
        "#**ANOVA**"
      ],
      "metadata": {
        "id": "aLkeS7NmX8CI"
      }
    },
    {
      "cell_type": "code",
      "source": [
        "import scipy.stats as stats\n",
        "\n",
        "nivel_de_significancia = 0.05\n",
        "\n",
        "# Realizar ANOVA\n",
        "anova_result = stats.f_oneway(\n",
        "    df[df['%_almidon'] == 2]['Dureza'],\n",
        "    df[df['%_almidon'] == 5]['Dureza'],\n",
        "    df[df['%_almidon'] == 10]['Dureza'],\n",
        ")\n",
        "\n",
        "# Interpretar los resultados\n",
        "print(\"Resultados del ANOVA:\")\n",
        "print(f\"F-Estadístico: {anova_result.statistic:.2f}\")\n",
        "print(f\"Valor p: {anova_result.pvalue:.5f}\\n\")\n",
        "\n",
        "if anova_result.pvalue < nivel_de_significancia:\n",
        "    print(\"Conclusión: Hay diferencias significativas entre al menos dos grupos.\")\n",
        "else:\n",
        "    print(\"Conclusión: No hay diferencias significativas entre los grupos.\")\n",
        "\n",
        "    #Anel Rocio Valdez Cabrera"
      ],
      "metadata": {
        "colab": {
          "base_uri": "https://localhost:8080/"
        },
        "id": "oGyW8vh3YBVL",
        "outputId": "bd6510e1-ec46-4c79-8fc6-557744c584f9"
      },
      "execution_count": 5,
      "outputs": [
        {
          "output_type": "stream",
          "name": "stdout",
          "text": [
            "Resultados del ANOVA:\n",
            "F-Estadístico: 58.10\n",
            "Valor p: 0.00001\n",
            "\n",
            "Conclusión: Hay diferencias significativas entre al menos dos grupos.\n"
          ]
        }
      ]
    },
    {
      "cell_type": "markdown",
      "source": [
        "#**Turkey**"
      ],
      "metadata": {
        "id": "SCi4eIS7YNUD"
      }
    },
    {
      "cell_type": "code",
      "source": [
        "from statsmodels.stats.multicomp import pairwise_tukeyhsd\n",
        "import matplotlib.pyplot as plt\n",
        "\n",
        "nivel_de_significancia = 0.05\n",
        "\n",
        "# Prueba de Tukey\n",
        "tukey = pairwise_tukeyhsd(endog=df['Dureza'], groups=df['%_almidon'], alpha=nivel_de_significancia)\n",
        "\n",
        "# Mostrar los resultados\n",
        "print(tukey)\n",
        "\n",
        "# Gráfico de las diferencias entre grupos\n",
        "tukey.plot_simultaneous(ylabel=\"Grupos\", xlabel=\"Medias\")\n",
        "\n",
        "plt.gca().spines['right'].set_visible(False) # derecha\n",
        "plt.gca().spines['top'].set_visible(False)   # superior\n",
        "plt.title(\"Múltiples comparaciones entre todos los pares (Tukey)\")\n",
        "\n",
        "#Anel Rocio Valdez Cabrera"
      ],
      "metadata": {
        "colab": {
          "base_uri": "https://localhost:8080/",
          "height": 721
        },
        "id": "JuAyOlfdYSRv",
        "outputId": "a47f59ba-12a4-4eb9-fe3c-77691345d9c6"
      },
      "execution_count": 6,
      "outputs": [
        {
          "output_type": "stream",
          "name": "stdout",
          "text": [
            "Multiple Comparison of Means - Tukey HSD, FWER=0.05\n",
            "==================================================\n",
            "group1 group2 meandiff p-adj  lower  upper  reject\n",
            "--------------------------------------------------\n",
            "     2      5      2.0 0.0006 1.0532 2.9468   True\n",
            "     2     10     3.65    0.0 2.7032 4.5968   True\n",
            "     5     10     1.65 0.0023 0.7032 2.5968   True\n",
            "--------------------------------------------------\n"
          ]
        },
        {
          "output_type": "execute_result",
          "data": {
            "text/plain": [
              "Text(0.5, 1.0, 'Múltiples comparaciones entre todos los pares (Tukey)')"
            ]
          },
          "metadata": {},
          "execution_count": 6
        },
        {
          "output_type": "display_data",
          "data": {
            "text/plain": [
              "<Figure size 1000x600 with 1 Axes>"
            ],
            "image/png": "[encoded data removed]"
          },
          "metadata": {}
        }
      ]
    },
    {
      "cell_type": "markdown",
      "source": [
        "7. Los datos que se presentan enseguida son rendimientos en toneladas por hectárea de un pasto con tres niveles de fertilización nitrogenada. El diseño fue completamente aleatorizado, con cinco repeticiones por tratamiento.\n",
        "\n",
        "| Niveles de nitrógeno | Rendimientos (ton/ha)       |\n",
        "|-----------------------|----------------------------|\n",
        "| 1                     | 14.823, 14.676, 14.720, 14.5141, 15.065 |\n",
        "| 2                     | 25.151, 25.401, 25.131, 25.031, 25.267 |\n",
        "| 3                     | 32.605, 32.460, 32.256, 32.669, 32.111 |\n"
      ],
      "metadata": {
        "id": "0vuAF4HTnVXS"
      }
    },
    {
      "cell_type": "code",
      "source": [
        "import pandas as pd\n",
        "from io import StringIO\n",
        "\n",
        "# Datos en formato CSV\n",
        "datos = '''\n",
        "nivel,rendimiento\n",
        "1,14.823\n",
        "1,14.676\n",
        "1,14.720\n",
        "1,14.514\n",
        "1,15.065\n",
        "2,25.151\n",
        "2,25.401\n",
        "2,25.131\n",
        "2,25.031\n",
        "2,25.267\n",
        "3,32.605\n",
        "3,32.460\n",
        "3,32.256\n",
        "3,32.669\n",
        "3,32.111\n",
        "'''\n",
        "\n",
        "# Convertir a DataFrame\n",
        "df = pd.read_csv(StringIO(datos))\n",
        "df.reset_index(drop=True, inplace=True)\n",
        "\n",
        "print(df)\n",
        "\n",
        "#Anel Rocio Valdez Cabrera"
      ],
      "metadata": {
        "colab": {
          "base_uri": "https://localhost:8080/"
        },
        "id": "VS_PRfZwY2LS",
        "outputId": "97d2b061-42ba-44c0-e35d-c7dae2d14292"
      },
      "execution_count": 7,
      "outputs": [
        {
          "output_type": "stream",
          "name": "stdout",
          "text": [
            "    nivel  rendimiento\n",
            "0       1       14.823\n",
            "1       1       14.676\n",
            "2       1       14.720\n",
            "3       1       14.514\n",
            "4       1       15.065\n",
            "5       2       25.151\n",
            "6       2       25.401\n",
            "7       2       25.131\n",
            "8       2       25.031\n",
            "9       2       25.267\n",
            "10      3       32.605\n",
            "11      3       32.460\n",
            "12      3       32.256\n",
            "13      3       32.669\n",
            "14      3       32.111\n"
          ]
        }
      ]
    },
    {
      "cell_type": "markdown",
      "source": [
        "#**Normalidad Shapiro**"
      ],
      "metadata": {
        "id": "oivH4kznZA_7"
      }
    },
    {
      "cell_type": "code",
      "source": [
        "# Prueba de Shapiro\n",
        "\n",
        "from scipy.stats import shapiro\n",
        "nivel_de_significancia = 0.05\n",
        "\n",
        "# Función para realizar la prueba de Shapiro-Wilk y mostrar interpretación\n",
        "# NO MODIFICAR\n",
        "def prueba_shapiro(datos, nombre_grupo, nivel_de_significancia):\n",
        "    stat, p = shapiro(datos)\n",
        "    print(f\"\\nPrueba de Shapiro-Wilk para {nombre_grupo}:\")\n",
        "    print(f\"Estadístico: {stat:.4f}\")\n",
        "    print(f\"Valor p: {p:.4f}\")\n",
        "    if p > nivel_de_significancia:\n",
        "        print(\"Interpretación: Los datos tienen una distribución normal.\")\n",
        "    else:\n",
        "        print(\"Interpretación: Los datos no tienen una distribución normal.\")\n",
        "\n",
        "# Aplicar la prueba a cada grupo (parte modificable)\n",
        "prueba_shapiro(df[df['nivel'] == 1 ]['rendimiento'], \"niveles_de_fertilización_1\", nivel_de_significancia)\n",
        "prueba_shapiro(df[df['nivel'] == 2 ]['rendimiento'], \"niveles_de_fertilización_2\", nivel_de_significancia)\n",
        "prueba_shapiro(df[df['nivel'] == 3 ]['rendimiento'], \"niveles_de_fertilización_3\", nivel_de_significancia)\n",
        "\n",
        "\n",
        "#Anel Rocio Valdez Cabrera"
      ],
      "metadata": {
        "colab": {
          "base_uri": "https://localhost:8080/"
        },
        "id": "Lrpkg8wAZFmT",
        "outputId": "ba83eab6-45a4-4dc5-c74e-8bf9a789a03f"
      },
      "execution_count": 8,
      "outputs": [
        {
          "output_type": "stream",
          "name": "stdout",
          "text": [
            "\n",
            "Prueba de Shapiro-Wilk para niveles_de_fertilización_1:\n",
            "Estadístico: 0.9711\n",
            "Valor p: 0.8821\n",
            "Interpretación: Los datos tienen una distribución normal.\n",
            "\n",
            "Prueba de Shapiro-Wilk para niveles_de_fertilización_2:\n",
            "Estadístico: 0.9647\n",
            "Valor p: 0.8402\n",
            "Interpretación: Los datos tienen una distribución normal.\n",
            "\n",
            "Prueba de Shapiro-Wilk para niveles_de_fertilización_3:\n",
            "Estadístico: 0.9406\n",
            "Valor p: 0.6701\n",
            "Interpretación: Los datos tienen una distribución normal.\n"
          ]
        }
      ]
    },
    {
      "cell_type": "markdown",
      "source": [
        "Homocedasticidad: Barlett"
      ],
      "metadata": {
        "id": "JMv3OG0bZNa6"
      }
    },
    {
      "cell_type": "code",
      "source": [
        "from scipy.stats import bartlett\n",
        "nivel_de_significancia = 0.05\n",
        "\n",
        "# Aplicar la prueba de Bartlett\n",
        "stat, p_value = bartlett(\n",
        "    df[df['nivel'] == 1]['rendimiento'],\n",
        "    df[df['nivel'] == 2]['rendimiento'],\n",
        "    df[df['nivel'] == 3]['rendimiento'],\n",
        "\n",
        ")\n",
        "\n",
        "# Resultados\n",
        "print(\"Estadístico de Bartlett:\", stat)\n",
        "print(\"Valor p:\", p_value)\n",
        "\n",
        "# Interpretación\n",
        "if p_value < nivel_de_significancia:\n",
        "    print(\"Rechazamos la hipótesis nula: Las varianzas no son iguales.\")\n",
        "else:\n",
        "    print(\"No podemos rechazar la hipótesis nula: Las varianzas son iguales.\")"
      ],
      "metadata": {
        "colab": {
          "base_uri": "https://localhost:8080/"
        },
        "id": "qLhBLSlUZRQC",
        "outputId": "105d25d4-bf3c-44c4-adee-a9a5dad64ac9"
      },
      "execution_count": 9,
      "outputs": [
        {
          "output_type": "stream",
          "name": "stdout",
          "text": [
            "Estadístico de Bartlett: 0.8865708483161732\n",
            "Valor p: 0.6419239603315805\n",
            "No podemos rechazar la hipótesis nula: Las varianzas son iguales.\n"
          ]
        }
      ]
    },
    {
      "cell_type": "markdown",
      "source": [
        "#**ANOVA**"
      ],
      "metadata": {
        "id": "QeCwLPKRZVCM"
      }
    },
    {
      "cell_type": "code",
      "source": [
        "import scipy.stats as stats\n",
        "\n",
        "nivel_de_significancia = 0.05\n",
        "\n",
        "# Realizar ANOVA\n",
        "anova_result = stats.f_oneway(\n",
        "    df[df['nivel'] == 1]['rendimiento'],\n",
        "    df[df['nivel'] == 2]['rendimiento'],\n",
        "    df[df['nivel'] == 3]['rendimiento'],\n",
        ")\n",
        "\n",
        "# Interpretar los resultados\n",
        "print(\"Resultados del ANOVA:\")\n",
        "print(f\"F-Estadístico: {anova_result.statistic:.2f}\")\n",
        "print(f\"Valor p: {anova_result.pvalue:.5f}\\n\")\n",
        "\n",
        "if anova_result.pvalue < nivel_de_significancia:\n",
        "    print(\"Conclusión: Hay diferencias significativas entre al menos dos grupos.\")\n",
        "else:\n",
        "    print(\"Conclusión: No hay diferencias significativas entre los grupos.\")\n",
        "\n",
        "    #Anel Rocio Valdez Cabrera"
      ],
      "metadata": {
        "colab": {
          "base_uri": "https://localhost:8080/"
        },
        "id": "fYF6rr4oZasG",
        "outputId": "475d22ab-322a-46ea-b197-21c453524f60"
      },
      "execution_count": 10,
      "outputs": [
        {
          "output_type": "stream",
          "name": "stdout",
          "text": [
            "Resultados del ANOVA:\n",
            "F-Estadístico: 10130.58\n",
            "Valor p: 0.00000\n",
            "\n",
            "Conclusión: Hay diferencias significativas entre al menos dos grupos.\n"
          ]
        }
      ]
    },
    {
      "cell_type": "markdown",
      "source": [
        "#**Turkey**"
      ],
      "metadata": {
        "id": "eQ047EEFZg8U"
      }
    },
    {
      "cell_type": "code",
      "source": [
        "from statsmodels.stats.multicomp import pairwise_tukeyhsd\n",
        "import matplotlib.pyplot as plt\n",
        "\n",
        "nivel_de_significancia = 0.05\n",
        "\n",
        "# Prueba de Tukey\n",
        "tukey = pairwise_tukeyhsd(endog=df['rendimiento'], groups=df['nivel'], alpha=nivel_de_significancia)\n",
        "\n",
        "# Mostrar los resultados\n",
        "print(tukey)\n",
        "\n",
        "# Gráfico de las diferencias entre grupos\n",
        "tukey.plot_simultaneous(ylabel=\"Grupos\", xlabel=\"Medias\")\n",
        "\n",
        "plt.gca().spines['right'].set_visible(False) # derecha\n",
        "plt.gca().spines['top'].set_visible(False)   # superior\n",
        "plt.title(\"Múltiples comparaciones entre todos los pares (Tukey)\")\n",
        "\n",
        "#Anel Rocio Valdez Cabrera"
      ],
      "metadata": {
        "colab": {
          "base_uri": "https://localhost:8080/",
          "height": 721
        },
        "id": "3VL7sQmpZi9y",
        "outputId": "7004383a-1aaf-44ac-e165-f8628915ac6d"
      },
      "execution_count": 11,
      "outputs": [
        {
          "output_type": "stream",
          "name": "stdout",
          "text": [
            "Multiple Comparison of Means - Tukey HSD, FWER=0.05\n",
            "===================================================\n",
            "group1 group2 meandiff p-adj  lower   upper  reject\n",
            "---------------------------------------------------\n",
            "     1      2  10.4366   0.0 10.1038 10.7694   True\n",
            "     1      3  17.6606   0.0 17.3278 17.9934   True\n",
            "     2      3    7.224   0.0  6.8912  7.5568   True\n",
            "---------------------------------------------------\n"
          ]
        },
        {
          "output_type": "execute_result",
          "data": {
            "text/plain": [
              "Text(0.5, 1.0, 'Múltiples comparaciones entre todos los pares (Tukey)')"
            ]
          },
          "metadata": {},
          "execution_count": 11
        },
        {
          "output_type": "display_data",
          "data": {
            "text/plain": [
              "<Figure size 1000x600 with 1 Axes>"
            ],
            "image/png": "[encoded data removed]"
          },
          "metadata": {}
        }
      ]
    },
    {
      "cell_type": "markdown",
      "source": [
        "8. Un químico del departamento de desarrollo de un laboratorio farmacéutico desea conocer cómo influye el tipo de aglutinante utilizado en tabletas de ampicilina de 500 mg en el porcentaje de friabilidad; para ello, se eligen los siguientes aglutinantes: polivinilpirrolidona (PVP), carboximetilcelulosa sódica (CMC) y grenetina (Gre). Los resultados del diseño experimental son los siguientes:\n",
        "\n",
        "| Aglutinante | % de friabilidad          |\n",
        "|-------------|---------------------------|\n",
        "| PVP         | 0.485, 0.250, 0.073, 0.205, 0.161 |\n",
        "| CMC         | 9.64, 9.37, 9.53, 9.86, 9.79       |\n",
        "| Gre         | 0.289, 0.275, 0.612, 0.152, 0.137  |\n"
      ],
      "metadata": {
        "id": "CmgbERqTnor9"
      }
    },
    {
      "cell_type": "code",
      "source": [
        "import pandas as pd\n",
        "from io import StringIO\n",
        "\n",
        "# Datos en formato CSV\n",
        "datos = '''\n",
        "Aglutinante,%_de_friabilidad\n",
        "PVP,0.485\n",
        "PVP,0.250\n",
        "PVP,0.073\n",
        "PVP,0.205\n",
        "PVP,0.161\n",
        "CMC,9.64\n",
        "CMC,9.37\n",
        "CMC,9.53\n",
        "CMC,9.86\n",
        "CMC,9.79\n",
        "Gre,0.289\n",
        "Gre,0.275\n",
        "Gre,0.612\n",
        "Gre,0.152\n",
        "Gre,0.137\n",
        "'''\n",
        "\n",
        "# Crear un DataFrame con pandas\n",
        "df = pd.read_csv(StringIO(datos))\n",
        "df.reset_index(drop=True, inplace=True)\n",
        "\n",
        "print(df)\n",
        "\n",
        "#Anel Rocio Valdez Cabrera"
      ],
      "metadata": {
        "id": "9OPRt9aDoBBN",
        "colab": {
          "base_uri": "https://localhost:8080/"
        },
        "outputId": "8e1c2b88-6956-4ae6-9849-f8801517def4"
      },
      "execution_count": 12,
      "outputs": [
        {
          "output_type": "stream",
          "name": "stdout",
          "text": [
            "   Aglutinante  %_de_friabilidad\n",
            "0          PVP             0.485\n",
            "1          PVP             0.250\n",
            "2          PVP             0.073\n",
            "3          PVP             0.205\n",
            "4          PVP             0.161\n",
            "5          CMC             9.640\n",
            "6          CMC             9.370\n",
            "7          CMC             9.530\n",
            "8          CMC             9.860\n",
            "9          CMC             9.790\n",
            "10         Gre             0.289\n",
            "11         Gre             0.275\n",
            "12         Gre             0.612\n",
            "13         Gre             0.152\n",
            "14         Gre             0.137\n"
          ]
        }
      ]
    },
    {
      "cell_type": "markdown",
      "source": [
        "#**Supuesto de normalidad: test de Shapiro**"
      ],
      "metadata": {
        "id": "-Uy3IzPGaAhM"
      }
    },
    {
      "cell_type": "code",
      "source": [
        "# Prueba de Shapiro\n",
        "\n",
        "from scipy.stats import shapiro\n",
        "nivel_de_significancia = 0.05\n",
        "\n",
        "# Función para realizar la prueba de Shapiro-Wilk y mostrar interpretación\n",
        "# NO MODIFICAR\n",
        "def prueba_shapiro(datos, nombre_grupo, nivel_de_significancia):\n",
        "    stat, p = shapiro(datos)\n",
        "    print(f\"\\nPrueba de Shapiro-Wilk para {nombre_grupo}:\")\n",
        "    print(f\"Estadístico: {stat:.4f}\")\n",
        "    print(f\"Valor p: {p:.4f}\")\n",
        "    if p > nivel_de_significancia:\n",
        "        print(\"Interpretación: Los datos tienen una distribución normal.\")\n",
        "    else:\n",
        "        print(\"Interpretación: Los datos no tienen una distribución normal.\")\n",
        "\n",
        "# Aplicar la prueba a cada grupo (parte modificable)\n",
        "prueba_shapiro(df[df['Aglutinante'] == 'PVP' ]['%_de_friabilidad'], \"Grupo 1\", nivel_de_significancia)\n",
        "prueba_shapiro(df[df['Aglutinante'] == 'CMC' ]['%_de_friabilidad'], \"Grupo 2\", nivel_de_significancia)\n",
        "prueba_shapiro(df[df['Aglutinante'] == 'Gre']['%_de_friabilidad'], \"Grupo 3\", nivel_de_significancia)\n",
        "\n",
        "#Anel Rocio Valdez Cabrera"
      ],
      "metadata": {
        "colab": {
          "base_uri": "https://localhost:8080/"
        },
        "id": "WppxLIv9aDFD",
        "outputId": "9d96f7a1-5635-4865-f1af-b9ffb516d2a5"
      },
      "execution_count": 13,
      "outputs": [
        {
          "output_type": "stream",
          "name": "stdout",
          "text": [
            "\n",
            "Prueba de Shapiro-Wilk para Grupo 1:\n",
            "Estadístico: 0.9147\n",
            "Valor p: 0.4962\n",
            "Interpretación: Los datos tienen una distribución normal.\n",
            "\n",
            "Prueba de Shapiro-Wilk para Grupo 2:\n",
            "Estadístico: 0.9679\n",
            "Valor p: 0.8616\n",
            "Interpretación: Los datos tienen una distribución normal.\n",
            "\n",
            "Prueba de Shapiro-Wilk para Grupo 3:\n",
            "Estadístico: 0.8313\n",
            "Valor p: 0.1424\n",
            "Interpretación: Los datos tienen una distribución normal.\n"
          ]
        }
      ]
    },
    {
      "cell_type": "markdown",
      "source": [
        "#**Supuesto homoscedasticidad: test de Barlett**"
      ],
      "metadata": {
        "id": "b_QNnkS9aQBb"
      }
    },
    {
      "cell_type": "code",
      "source": [
        "from scipy.stats import bartlett\n",
        "nivel_de_significancia = 0.05\n",
        "\n",
        "# Aplicar la prueba de Bartlett\n",
        "stat, p_value = bartlett(\n",
        "      df[df['Aglutinante'] == 'PVP' ]['%_de_friabilidad'],\n",
        "      df[df['Aglutinante'] == 'CMC' ]['%_de_friabilidad'],\n",
        "      df[df['Aglutinante'] == 'Gre']['%_de_friabilidad'],\n",
        ")\n",
        "\n",
        "# Resultados\n",
        "print(\"Estadístico de Bartlett:\", stat)\n",
        "print(\"Valor p:\", p_value)\n",
        "\n",
        "# Interpretación\n",
        "if p_value < nivel_de_significancia:\n",
        "    print(\"Rechazamos la hipótesis nula: Las varianzas no son iguales.\")\n",
        "else:\n",
        "    print(\"No podemos rechazar la hipótesis nula: Las varianzas son iguales.\")\n",
        "\n",
        "    #Anel Rocio Valdez Cabrera"
      ],
      "metadata": {
        "colab": {
          "base_uri": "https://localhost:8080/"
        },
        "id": "OTUAe9o8aSHO",
        "outputId": "1271434b-65e0-400e-eb59-77d4e5571ac0"
      },
      "execution_count": 14,
      "outputs": [
        {
          "output_type": "stream",
          "name": "stdout",
          "text": [
            "Estadístico de Bartlett: 0.24372837838984224\n",
            "Valor p: 0.8852685893786298\n",
            "No podemos rechazar la hipótesis nula: Las varianzas son iguales.\n"
          ]
        }
      ]
    },
    {
      "cell_type": "markdown",
      "source": [
        "#**ANOVA**"
      ],
      "metadata": {
        "id": "668RUCKIah4-"
      }
    },
    {
      "cell_type": "code",
      "source": [
        "import scipy.stats as stats\n",
        "\n",
        "nivel_de_significancia = 0.05\n",
        "\n",
        "# Realizar ANOVA\n",
        "anova_result = stats.f_oneway(\n",
        "      df[df['Aglutinante'] == 'PVP' ]['%_de_friabilidad'],\n",
        "      df[df['Aglutinante'] == 'CMC' ]['%_de_friabilidad'],\n",
        "      df[df['Aglutinante'] == 'Gre']['%_de_friabilidad'],\n",
        ")\n",
        "\n",
        "# Interpretar los resultados\n",
        "print(\"Resultados del ANOVA:\")\n",
        "print(f\"F-Estadístico: {anova_result.statistic:.2f}\")\n",
        "print(f\"Valor p: {anova_result.pvalue:.5f}\\n\")\n",
        "\n",
        "if anova_result.pvalue < nivel_de_significancia:\n",
        "    print(\"Conclusión: Hay diferencias significativas entre al menos dos grupos.\")\n",
        "else:\n",
        "    print(\"Conclusión: No hay diferencias significativas entre los grupos.\")\n",
        "\n",
        "    #Anel Rocio Valdez Cabrera"
      ],
      "metadata": {
        "colab": {
          "base_uri": "https://localhost:8080/"
        },
        "id": "YlkpWwEcaniV",
        "outputId": "8cc408f3-1942-49b7-d86b-73248c139811"
      },
      "execution_count": 15,
      "outputs": [
        {
          "output_type": "stream",
          "name": "stdout",
          "text": [
            "Resultados del ANOVA:\n",
            "F-Estadístico: 4420.97\n",
            "Valor p: 0.00000\n",
            "\n",
            "Conclusión: Hay diferencias significativas entre al menos dos grupos.\n"
          ]
        }
      ]
    },
    {
      "cell_type": "markdown",
      "source": [
        "#**Turkey**"
      ],
      "metadata": {
        "id": "pl4HihUeaw3Q"
      }
    },
    {
      "cell_type": "code",
      "source": [
        "from statsmodels.stats.multicomp import pairwise_tukeyhsd\n",
        "import matplotlib.pyplot as plt\n",
        "\n",
        "nivel_de_significancia = 0.05\n",
        "\n",
        "# Prueba de Tukey\n",
        "tukey = pairwise_tukeyhsd(endog=df['%_de_friabilidad'], groups=df['Aglutinante'], alpha=nivel_de_significancia)\n",
        "\n",
        "# Mostrar los resultados\n",
        "print(tukey)\n",
        "\n",
        "# Gráfico de las diferencias entre grupos\n",
        "tukey.plot_simultaneous(ylabel=\"Grupos\", xlabel=\"Medias\")\n",
        "\n",
        "plt.gca().spines['right'].set_visible(False) # derecha\n",
        "plt.gca().spines['top'].set_visible(False)   # superior\n",
        "plt.title(\"Múltiples comparaciones entre todos los pares (Tukey)\")\n",
        "\n",
        "    #Anel Rocio Valdez Cabrera"
      ],
      "metadata": {
        "colab": {
          "base_uri": "https://localhost:8080/",
          "height": 721
        },
        "id": "anSAAlgjazVT",
        "outputId": "a40373b8-ff74-4014-93f8-27bfe304abbe"
      },
      "execution_count": 17,
      "outputs": [
        {
          "output_type": "stream",
          "name": "stdout",
          "text": [
            "Multiple Comparison of Means - Tukey HSD, FWER=0.05\n",
            "===================================================\n",
            "group1 group2 meandiff p-adj  lower   upper  reject\n",
            "---------------------------------------------------\n",
            "   CMC    Gre   -9.345   0.0 -9.6521 -9.0379   True\n",
            "   CMC    PVP  -9.4032   0.0 -9.7103 -9.0961   True\n",
            "   Gre    PVP  -0.0582  0.87 -0.3653  0.2489  False\n",
            "---------------------------------------------------\n"
          ]
        },
        {
          "output_type": "execute_result",
          "data": {
            "text/plain": [
              "Text(0.5, 1.0, 'Múltiples comparaciones entre todos los pares (Tukey)')"
            ]
          },
          "metadata": {},
          "execution_count": 17
        },
        {
          "output_type": "display_data",
          "data": {
            "text/plain": [
              "<Figure size 1000x600 with 1 Axes>"
            ],
            "image/png": "[encoded data removed]"
          },
          "metadata": {}
        }
      ]
    },
    {
      "cell_type": "markdown",
      "source": [
        "9. Se cultivaron cuatro diferentes clonas de *agave tequilana* bajo un mismo esquema de manejo. Se quiere saber qué clona es la que responde mejor a dicho manejo, evaluando el nivel de respuesta con el porcentaje de azúcares reductores totales en base húmeda. Los datos se muestran a continuación:\n",
        "\n",
        "| Clona | Porcentaje de azúcares reductores totales |\n",
        "|-------|------------------------------------------|\n",
        "| 1     | 8.69, 6.68, 6.83, 6.43, 10.30            |\n",
        "| 2     | 8.00, 16.41, 12.43, 10.99, 15.53         |\n",
        "| 3     | 17.39, 13.73, 15.62, 17.05, 15.42        |\n",
        "| 4     | 10.37, 9.16, 8.83, 4.40, 10.38           |\n"
      ],
      "metadata": {
        "id": "UssBLNz4oBOK"
      }
    },
    {
      "cell_type": "code",
      "source": [
        "import pandas as pd\n",
        "from io import StringIO\n",
        "\n",
        "# Datos en formato CSV\n",
        "datos = '''\n",
        "clona,azucares\n",
        "1,8.69\n",
        "1,6.68\n",
        "1,6.83\n",
        "1,6.43\n",
        "1,10.30\n",
        "2,8.00\n",
        "2,16.41\n",
        "2,12.43\n",
        "2,10.99\n",
        "2,15.53\n",
        "3,17.39\n",
        "3,13.73\n",
        "3,15.62\n",
        "3,17.05\n",
        "3,15.42\n",
        "4,10.37\n",
        "4,9.16\n",
        "4,8.83\n",
        "4,4.40\n",
        "4,10.38\n",
        "'''\n",
        "# Convertir a DataFrame\n",
        "df = pd.read_csv(StringIO(datos))\n",
        "df.reset_index(drop=True, inplace=True)\n",
        "\n",
        "print(df)\n",
        "\n",
        "#Anel Rocio Valdez Cabrera"
      ],
      "metadata": {
        "id": "7ZGsEQ2uoVmw",
        "colab": {
          "base_uri": "https://localhost:8080/"
        },
        "outputId": "36825e76-49ec-4801-cf75-2d9ae099775c"
      },
      "execution_count": 18,
      "outputs": [
        {
          "output_type": "stream",
          "name": "stdout",
          "text": [
            "    clona  azucares\n",
            "0       1      8.69\n",
            "1       1      6.68\n",
            "2       1      6.83\n",
            "3       1      6.43\n",
            "4       1     10.30\n",
            "5       2      8.00\n",
            "6       2     16.41\n",
            "7       2     12.43\n",
            "8       2     10.99\n",
            "9       2     15.53\n",
            "10      3     17.39\n",
            "11      3     13.73\n",
            "12      3     15.62\n",
            "13      3     17.05\n",
            "14      3     15.42\n",
            "15      4     10.37\n",
            "16      4      9.16\n",
            "17      4      8.83\n",
            "18      4      4.40\n",
            "19      4     10.38\n"
          ]
        }
      ]
    },
    {
      "cell_type": "markdown",
      "source": [
        "#**Supuesto de normalidad: test de Shapiro**"
      ],
      "metadata": {
        "id": "C-kFVZd2bSLX"
      }
    },
    {
      "cell_type": "code",
      "source": [
        "# Prueba de Shapiro\n",
        "\n",
        "from scipy.stats import shapiro\n",
        "nivel_de_significancia = 0.05\n",
        "\n",
        "# Función para realizar la prueba de Shapiro-Wilk y mostrar interpretación\n",
        "# NO MODIFICAR\n",
        "def prueba_shapiro(datos, nombre_grupo, nivel_de_significancia):\n",
        "    stat, p = shapiro(datos)\n",
        "    print(f\"\\nPrueba de Shapiro-Wilk para {nombre_grupo}:\")\n",
        "    print(f\"Estadístico: {stat:.4f}\")\n",
        "    print(f\"Valor p: {p:.4f}\")\n",
        "    if p > nivel_de_significancia:\n",
        "        print(\"Interpretación: Los datos tienen una distribución normal.\")\n",
        "    else:\n",
        "        print(\"Interpretación: Los datos no tienen una distribución normal.\")\n",
        "\n",
        "# Aplicar la prueba a cada grupo (parte modificable)\n",
        "prueba_shapiro(df[df['clona'] == 1 ]['azucares'], \"Grupo 1\", nivel_de_significancia)\n",
        "prueba_shapiro(df[df['clona'] == 2 ]['azucares'], \"Grupo 2\", nivel_de_significancia)\n",
        "prueba_shapiro(df[df['clona'] == 3 ]['azucares'], \"Grupo 3\", nivel_de_significancia)\n",
        "prueba_shapiro(df[df['clona'] == 4 ]['azucares'], \"Grupo 4\", nivel_de_significancia)\n",
        "\n",
        "#Anel Rocio Valdez Cabrera"
      ],
      "metadata": {
        "colab": {
          "base_uri": "https://localhost:8080/"
        },
        "id": "cXG1FAJzbW_I",
        "outputId": "babdd13a-a110-414f-acb8-df1716dfa9ca"
      },
      "execution_count": 19,
      "outputs": [
        {
          "output_type": "stream",
          "name": "stdout",
          "text": [
            "\n",
            "Prueba de Shapiro-Wilk para Grupo 1:\n",
            "Estadístico: 0.8411\n",
            "Valor p: 0.1679\n",
            "Interpretación: Los datos tienen una distribución normal.\n",
            "\n",
            "Prueba de Shapiro-Wilk para Grupo 2:\n",
            "Estadístico: 0.9539\n",
            "Valor p: 0.7648\n",
            "Interpretación: Los datos tienen una distribución normal.\n",
            "\n",
            "Prueba de Shapiro-Wilk para Grupo 3:\n",
            "Estadístico: 0.9348\n",
            "Valor p: 0.6293\n",
            "Interpretación: Los datos tienen una distribución normal.\n",
            "\n",
            "Prueba de Shapiro-Wilk para Grupo 4:\n",
            "Estadístico: 0.7772\n",
            "Valor p: 0.0522\n",
            "Interpretación: Los datos tienen una distribución normal.\n"
          ]
        }
      ]
    },
    {
      "cell_type": "markdown",
      "source": [
        "#**Supuesto homoscedasticidad: test de Barlett**"
      ],
      "metadata": {
        "id": "yfzTh3v9behG"
      }
    },
    {
      "cell_type": "code",
      "source": [
        "from scipy.stats import bartlett\n",
        "nivel_de_significancia = 0.05\n",
        "\n",
        "# Aplicar la prueba de Bartlett\n",
        "stat, p_value = bartlett(\n",
        "    df[df['clona'] == 1 ]['azucares'],\n",
        "    df[df['clona'] == 2 ]['azucares'],\n",
        "    df[df['clona'] == 3 ]['azucares'],\n",
        "    df[df['clona'] == 4 ]['azucares'],\n",
        ")\n",
        "\n",
        "# Resultados\n",
        "print(\"Estadístico de Bartlett:\", stat)\n",
        "print(\"Valor p:\", p_value)\n",
        "\n",
        "# Interpretación\n",
        "if p_value < nivel_de_significancia:\n",
        "    print(\"Rechazamos la hipótesis nula: Las varianzas no son iguales.\")\n",
        "else:\n",
        "    print(\"No podemos rechazar la hipótesis nula: Las varianzas son iguales.\")\n",
        "\n",
        "    #Anel Rocio Valdez Cabrera"
      ],
      "metadata": {
        "id": "vT_0tMKwbivl"
      },
      "execution_count": null,
      "outputs": []
    },
    {
      "cell_type": "markdown",
      "source": [
        "#**ANOVA**"
      ],
      "metadata": {
        "id": "Yw7XLBPkbo4a"
      }
    },
    {
      "cell_type": "code",
      "source": [
        "import scipy.stats as stats\n",
        "\n",
        "nivel_de_significancia = 0.05\n",
        "\n",
        "# Realizar ANOVA\n",
        "anova_result = stats.f_oneway(\n",
        "    df[df['clona'] == 1 ]['azucares'],\n",
        "    df[df['clona'] == 2 ]['azucares'],\n",
        "    df[df['clona'] == 3 ]['azucares'],\n",
        "    df[df['clona'] == 4 ]['azucares'],\n",
        ")\n",
        "\n",
        "# Interpretar los resultados\n",
        "print(\"Resultados del ANOVA:\")\n",
        "print(f\"F-Estadístico: {anova_result.statistic:.2f}\")\n",
        "print(f\"Valor p: {anova_result.pvalue:.5f}\\n\")\n",
        "\n",
        "if anova_result.pvalue < nivel_de_significancia:\n",
        "    print(\"Conclusión: Hay diferencias significativas entre al menos dos grupos.\")\n",
        "else:\n",
        "    print(\"Conclusión: No hay diferencias significativas entre los grupos.\")\n",
        "\n",
        "    #Anel Rocio Valdez Cabrera"
      ],
      "metadata": {
        "colab": {
          "base_uri": "https://localhost:8080/"
        },
        "id": "viI5W70pbuWB",
        "outputId": "2755bd95-2449-451a-b523-831694d5c034"
      },
      "execution_count": 20,
      "outputs": [
        {
          "output_type": "stream",
          "name": "stdout",
          "text": [
            "Resultados del ANOVA:\n",
            "F-Estadístico: 12.33\n",
            "Valor p: 0.00020\n",
            "\n",
            "Conclusión: Hay diferencias significativas entre al menos dos grupos.\n"
          ]
        }
      ]
    },
    {
      "cell_type": "markdown",
      "source": [
        "#**Turkey**"
      ],
      "metadata": {
        "id": "JiU7UC84b27X"
      }
    },
    {
      "cell_type": "code",
      "source": [
        "from statsmodels.stats.multicomp import pairwise_tukeyhsd\n",
        "import matplotlib.pyplot as plt\n",
        "\n",
        "nivel_de_significancia = 0.05\n",
        "\n",
        "# Prueba de Tukey\n",
        "tukey = pairwise_tukeyhsd(endog=df['azucares'], groups=df['clona'], alpha=nivel_de_significancia)\n",
        "\n",
        "# Mostrar los resultados\n",
        "print(tukey)\n",
        "\n",
        "# Gráfico de las diferencias entre grupos\n",
        "tukey.plot_simultaneous(ylabel=\"Grupos\", xlabel=\"Medias\")\n",
        "\n",
        "plt.gca().spines['right'].set_visible(False) # derecha\n",
        "plt.gca().spines['top'].set_visible(False)   # superior\n",
        "plt.title(\"Múltiples comparaciones entre todos los pares (Tukey)\")\n",
        "\n",
        "#Anel Rocio Valdez Cabrera"
      ],
      "metadata": {
        "colab": {
          "base_uri": "https://localhost:8080/",
          "height": 773
        },
        "id": "BfB7Yvh9b7gv",
        "outputId": "3813a5b3-d3f4-405e-8573-94d8fe4beda5"
      },
      "execution_count": 21,
      "outputs": [
        {
          "output_type": "stream",
          "name": "stdout",
          "text": [
            "Multiple Comparison of Means - Tukey HSD, FWER=0.05\n",
            "===================================================\n",
            "group1 group2 meandiff p-adj   lower  upper  reject\n",
            "---------------------------------------------------\n",
            "     1      2    4.886 0.0237   0.575  9.197   True\n",
            "     1      3    8.056 0.0003   3.745 12.367   True\n",
            "     1      4    0.842 0.9428  -3.469  5.153  False\n",
            "     2      3     3.17 0.1939  -1.141  7.481  False\n",
            "     2      4   -4.044 0.0699  -8.355  0.267  False\n",
            "     3      4   -7.214  0.001 -11.525 -2.903   True\n",
            "---------------------------------------------------\n"
          ]
        },
        {
          "output_type": "execute_result",
          "data": {
            "text/plain": [
              "Text(0.5, 1.0, 'Múltiples comparaciones entre todos los pares (Tukey)')"
            ]
          },
          "metadata": {},
          "execution_count": 21
        },
        {
          "output_type": "display_data",
          "data": {
            "text/plain": [
              "<Figure size 1000x600 with 1 Axes>"
            ],
            "image/png": "[encoded data removed]"
          },
          "metadata": {}
        }
      ]
    },
    {
      "cell_type": "markdown",
      "source": [
        "10. Uno de los defectos que causan mayor desperdicio en la manufactura de discos ópticos compactos son los llamados “cometas”. Típicamente, se trata de una partícula que opone resistencia al fluido en la etapa de entintado. Se quiere comprobar de manera experimental la efectividad de un tratamiento de limpieza de partículas que está basado en fuerza centrípeta y aire ionizado. A 12 lotes de 50 CD se les aplica el tratamiento y a otros 12 lotes no se les aplica; en cada caso se mide el porcentaje de discos que presentan cometas, los resultados son los siguientes:\n",
        "\n",
        "| Con tratamiento      | Sin tratamiento      |\n",
        "|----------------------|----------------------|\n",
        "| 5.30   | 8.02  |\n",
        "| 4.03   | 13.18 |\n",
        "| 4.00   | 7.15  |\n",
        "| 2.56   | 9.11  |\n",
        "| 5.06   | 8.23  |\n",
        "| 4.06   | 16.3  |\n",
        "| 2.08   | 9.20  |\n",
        "| 4.03   | 6.35  |\n",
        "| 2.04   | 7.15  |\n",
        "| 1.18   | 8.66  |\n"
      ],
      "metadata": {
        "id": "-_luts-HoV0H"
      }
    },
    {
      "cell_type": "code",
      "source": [
        "import pandas as pd\n",
        "from io import StringIO\n",
        "\n",
        "# Datos en formato CSV\n",
        "datos = '''\n",
        "tratamiento,valor\n",
        "Con tratamiento,5.30\n",
        "Sin tratamiento,8.02\n",
        "Con tratamiento,4.03\n",
        "Sin tratamiento,13.18\n",
        "Con tratamiento,4.00\n",
        "Sin tratamiento,7.15\n",
        "Con tratamiento,2.56\n",
        "Sin tratamiento,9.11\n",
        "Con tratamiento,5.06\n",
        "Sin tratamiento,8.23\n",
        "Con tratamiento,4.06\n",
        "Sin tratamiento,16.3\n",
        "Con tratamiento,2.08\n",
        "Sin tratamiento,9.20\n",
        "Con tratamiento,4.03\n",
        "Sin tratamiento,6.35\n",
        "Con tratamiento,2.04\n",
        "Sin tratamiento,7.15\n",
        "Con tratamiento,1.18\n",
        "Sin tratamiento,8.66\n",
        "'''\n",
        "\n",
        "# Convertir a DataFrame\n",
        "df = pd.read_csv(StringIO(datos))\n",
        "df.reset_index(drop=True, inplace=True)\n",
        "\n",
        "print(df)\n",
        "\n",
        "#Anel Rocio Valdez Cabrera"
      ],
      "metadata": {
        "id": "RlB7P7L-pmyp",
        "colab": {
          "base_uri": "https://localhost:8080/"
        },
        "outputId": "2b6fa9ce-48b2-4739-c985-f6d2c1d71d36"
      },
      "execution_count": 23,
      "outputs": [
        {
          "output_type": "stream",
          "name": "stdout",
          "text": [
            "        tratamiento  valor\n",
            "0   Con tratamiento   5.30\n",
            "1   Sin tratamiento   8.02\n",
            "2   Con tratamiento   4.03\n",
            "3   Sin tratamiento  13.18\n",
            "4   Con tratamiento   4.00\n",
            "5   Sin tratamiento   7.15\n",
            "6   Con tratamiento   2.56\n",
            "7   Sin tratamiento   9.11\n",
            "8   Con tratamiento   5.06\n",
            "9   Sin tratamiento   8.23\n",
            "10  Con tratamiento   4.06\n",
            "11  Sin tratamiento  16.30\n",
            "12  Con tratamiento   2.08\n",
            "13  Sin tratamiento   9.20\n",
            "14  Con tratamiento   4.03\n",
            "15  Sin tratamiento   6.35\n",
            "16  Con tratamiento   2.04\n",
            "17  Sin tratamiento   7.15\n",
            "18  Con tratamiento   1.18\n",
            "19  Sin tratamiento   8.66\n"
          ]
        }
      ]
    },
    {
      "cell_type": "markdown",
      "source": [
        "#**Supuesto de normalidad: test de Shapiro**"
      ],
      "metadata": {
        "id": "2NjUkOOLcQEv"
      }
    },
    {
      "cell_type": "code",
      "source": [
        "# Prueba de Shapiro\n",
        "\n",
        "from scipy.stats import shapiro\n",
        "nivel_de_significancia = 0.05\n",
        "\n",
        "# Función para realizar la prueba de Shapiro-Wilk y mostrar interpretación\n",
        "# NO MODIFICAR\n",
        "def prueba_shapiro(datos, nombre_grupo, nivel_de_significancia):\n",
        "    stat, p = shapiro(datos)\n",
        "    print(f\"\\nPrueba de Shapiro-Wilk para {nombre_grupo}:\")\n",
        "    print(f\"Estadístico: {stat:.4f}\")\n",
        "    print(f\"Valor p: {p:.4f}\")\n",
        "    if p > nivel_de_significancia:\n",
        "        print(\"Interpretación: Los datos tienen una distribución normal.\")\n",
        "    else:\n",
        "        print(\"Interpretación: Los datos no tienen una distribución normal.\")\n",
        "\n",
        "# Aplicar la prueba a cada grupo (parte modificable)\n",
        "prueba_shapiro(df[df['tratamiento'] == \"Con tratamiento\" ]['valor'], \"Grupo A\", nivel_de_significancia)\n",
        "prueba_shapiro(df[df['tratamiento'] == \"Sin tratamiento\" ]['valor'], \"Grupo B\", nivel_de_significancia)\n",
        "\n",
        "#Anel Rocio Valdez Cabrera"
      ],
      "metadata": {
        "colab": {
          "base_uri": "https://localhost:8080/"
        },
        "id": "WNj1qOllcUVs",
        "outputId": "dfddfbda-a3b2-4ea3-a0f4-2cedaa8d192d"
      },
      "execution_count": 24,
      "outputs": [
        {
          "output_type": "stream",
          "name": "stdout",
          "text": [
            "\n",
            "Prueba de Shapiro-Wilk para Grupo A:\n",
            "Estadístico: 0.9149\n",
            "Valor p: 0.3162\n",
            "Interpretación: Los datos tienen una distribución normal.\n",
            "\n",
            "Prueba de Shapiro-Wilk para Grupo B:\n",
            "Estadístico: 0.8049\n",
            "Valor p: 0.0166\n",
            "Interpretación: Los datos no tienen una distribución normal.\n"
          ]
        }
      ]
    },
    {
      "cell_type": "markdown",
      "source": [
        "#**Supuesto homoscedasticidad: test de Barlett**"
      ],
      "metadata": {
        "id": "_mHGGPyaca8r"
      }
    },
    {
      "cell_type": "code",
      "source": [
        "from scipy.stats import bartlett\n",
        "nivel_de_significancia = 0.05\n",
        "\n",
        "# Aplicar la prueba de Bartlett\n",
        "stat, p_value = bartlett(\n",
        "    df[df['tratamiento'] == \"Con tratamiento\"]['valor'],\n",
        "    df[df['tratamiento'] == \"Sin tratamiento\"]['valor'],\n",
        ")\n",
        "\n",
        "# Resultados\n",
        "print(\"Estadístico de Bartlett:\", stat)\n",
        "print(\"Valor p:\", p_value)\n",
        "\n",
        "# Interpretación\n",
        "if p_value < nivel_de_significancia:\n",
        "    print(\"Rechazamos la hipótesis nula: Las varianzas no son iguales.\")\n",
        "else:\n",
        "    print(\"No podemos rechazar la hipótesis nula: Las varianzas son iguales.\")\n",
        "\n",
        "    #Anel Rocio Valdez Cabrera"
      ],
      "metadata": {
        "colab": {
          "base_uri": "https://localhost:8080/"
        },
        "id": "fY785WpucetK",
        "outputId": "11737f3b-a7e0-4d45-98f1-5d91b5ac597e"
      },
      "execution_count": 25,
      "outputs": [
        {
          "output_type": "stream",
          "name": "stdout",
          "text": [
            "Estadístico de Bartlett: 4.970612361881678\n",
            "Valor p: 0.02578151815286211\n",
            "Rechazamos la hipótesis nula: Las varianzas no son iguales.\n"
          ]
        }
      ]
    },
    {
      "cell_type": "markdown",
      "source": [
        "#**Kruskal**"
      ],
      "metadata": {
        "id": "ou9XWQDDckn0"
      }
    },
    {
      "cell_type": "code",
      "source": [
        "# Si al menos un grupo no sigue una distribución normal\n",
        "from scipy.stats import kruskal\n",
        "\n",
        "# Prueba de Kruskal-Wallis\n",
        "kruskal_result = kruskal(\n",
        "    df[df['tratamiento'] == 'Con tratamiento']['valor'],\n",
        "    df[df['tratamiento'] == 'Sin tratamiento']['valor']\n",
        ")\n",
        "\n",
        "# Mostrar resultados\n",
        "print(\"Resultados de la prueba de Kruskal-Wallis:\")\n",
        "print(f\"Estadístico de prueba: {kruskal_result.statistic:.2f}\")\n",
        "print(f\"Valor p: {kruskal_result.pvalue:.4f}\")\n",
        "\n",
        "# Interpretación\n",
        "if kruskal_result.pvalue < 0.05:\n",
        "    print(\"Interpretación: Existen diferencias significativas entre al menos dos grupos.\")\n",
        "else:\n",
        "    print(\"Interpretación: No hay diferencias significativas entre los grupos.\")"
      ],
      "metadata": {
        "colab": {
          "base_uri": "https://localhost:8080/"
        },
        "id": "IVHHwn8qcoCR",
        "outputId": "99c37afe-3e95-498b-ba2e-94286987f482"
      },
      "execution_count": 26,
      "outputs": [
        {
          "output_type": "stream",
          "name": "stdout",
          "text": [
            "Resultados de la prueba de Kruskal-Wallis:\n",
            "Estadístico de prueba: 14.31\n",
            "Valor p: 0.0002\n",
            "Interpretación: Existen diferencias significativas entre al menos dos grupos.\n"
          ]
        }
      ]
    },
    {
      "cell_type": "markdown",
      "source": [
        "#**Tukey**"
      ],
      "metadata": {
        "id": "YZ0p1cQIc4AC"
      }
    },
    {
      "cell_type": "code",
      "source": [
        "from statsmodels.stats.multicomp import pairwise_tukeyhsd\n",
        "import matplotlib.pyplot as plt\n",
        "\n",
        "nivel_de_significancia = 0.05\n",
        "\n",
        "# Prueba de Tukey\n",
        "tukey = pairwise_tukeyhsd(endog=df['valor'], groups=df['tratamiento'], alpha=nivel_de_significancia)\n",
        "\n",
        "# Mostrar los resultados\n",
        "print(tukey)\n",
        "\n",
        "# Gráfico de las diferencias entre grupos\n",
        "tukey.plot_simultaneous(ylabel=\"Grupos\", xlabel=\"Medias\")\n",
        "\n",
        "plt.gca().spines['right'].set_visible(False) # derecha\n",
        "plt.gca().spines['top'].set_visible(False)   # superior\n",
        "plt.title(\"Múltiples comparaciones entre todos los pares (Tukey)\")\n",
        "\n",
        "#Anel Rocio Valdez Cabrera"
      ],
      "metadata": {
        "colab": {
          "base_uri": "https://localhost:8080/",
          "height": 686
        },
        "id": "PlG_rMHMc-0C",
        "outputId": "7456aafc-9396-4e31-e9eb-30b0ccef5489"
      },
      "execution_count": 27,
      "outputs": [
        {
          "output_type": "stream",
          "name": "stdout",
          "text": [
            "       Multiple Comparison of Means - Tukey HSD, FWER=0.05       \n",
            "=================================================================\n",
            "     group1          group2     meandiff p-adj lower upper reject\n",
            "-----------------------------------------------------------------\n",
            "Con tratamiento Sin tratamiento    5.901   0.0  3.66 8.142   True\n",
            "-----------------------------------------------------------------\n"
          ]
        },
        {
          "output_type": "execute_result",
          "data": {
            "text/plain": [
              "Text(0.5, 1.0, 'Múltiples comparaciones entre todos los pares (Tukey)')"
            ]
          },
          "metadata": {},
          "execution_count": 27
        },
        {
          "output_type": "display_data",
          "data": {
            "text/plain": [
              "<Figure size 1000x600 with 1 Axes>"
            ],
            "image/png": "[encoded data removed]"
          },
          "metadata": {}
        }
      ]
    },
    {
      "cell_type": "markdown",
      "source": [
        "#**Conclusión**\n",
        "\n",
        "Como se muestra en nuestro análisis, de detenctó en la prueba de Shapiro que en el grupo con tratamiento los datos tienen una distribución normal, mientras que en el grupo donde no se tiene tratamiento el supuesto de normalidad no se cumple. De igual manera, se rechaza la hipótesis nula de igualdad de varianzas, es decir, que las varianzas no son homogéneas, lo que refuerza la decisión de usar pruebas no paramétricas en el supuesto anterior.\n",
        "\n",
        "En el análisis estadístico se perciben también las diferencias significativas entre ambos grupos, lo que nos indica que el tratamiento reduce el porcentaje de discos con defectos (diendo que en el gráfico se muestra que el grupo con tratamiento tiene un promedio significativamente menor, lo que resalta su efectividad)"
      ],
      "metadata": {
        "id": "Qc78P54rdGub"
      }
    },
    {
      "cell_type": "markdown",
      "source": [
        "#***CONCLUSIÓN***\n",
        "\n",
        "\n",
        "En casi todos los casos analizados reflejan diferencias significativas en la variable de interés entre los grupos estudiados, lo que subraya la relevancia de los análisis estadísticos en la identificación de tratamientos efectivos. Las pruebas realizadas para evaluar la normalidad de los datos y la homogeneidad de las varianzas confirmaron que se cumplen los criterios requeridos para aplicar análisis paramétricos de manera adecuada. Asimismo, la independencia entre las variables se mantuvo constante, garantizando la validez y precisión de las conclusiones derivadas de los resultados. Este enfoque es altamente adaptable y puede emplearse en múltiples áreas, como el perfeccionamiento de productos, la optimización de procesos industriales o la selección de estrategias pedagógicas; por otra parte, las herramientas estadísticas corroboran que los datos respetan los supuestos fundamentales, lo cual respalda la fiabilidad y validez de los hallazgos. Este tipo de análisis es imprescindible para fundamentar decisiones informadas en evidencia sólida, permitiendo priorizar alternativas que ofrezcan mayores beneficios o impactos positivos en los contextos en los que se implementen."
      ],
      "metadata": {
        "id": "hSMi5CB3fu9o"
      }
    }
  ]
}